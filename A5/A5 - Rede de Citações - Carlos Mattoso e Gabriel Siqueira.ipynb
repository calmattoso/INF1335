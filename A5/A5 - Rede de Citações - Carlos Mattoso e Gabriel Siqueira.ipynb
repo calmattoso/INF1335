{
 "cells": [
  {
   "cell_type": "markdown",
   "metadata": {},
   "source": [
    "**Rio de Janeiro, 27 de Junho de 2016**\n",
    "\n",
    "Grupo: **Carlos Mattoso** (🎂) _[ **1210553** ]_ e **Gabriel Siqueira** _[ **1210689** ]_\n",
    "\n",
    "Disciplina: **INF1335 - Introdução a Data Science com R e Python**\n",
    "\n",
    "# A5 - Rede de Citações\n",
    "\n",
    "## _Setup_ Básico"
   ]
  },
  {
   "cell_type": "code",
   "execution_count": 28,
   "metadata": {
    "collapsed": false
   },
   "outputs": [],
   "source": [
    "options(repr.plot.width = 10)\n",
    "options(repr.plot.height = 5)\n",
    "\n",
    "load.lib <- function(lib.name, rep=\"https://cloud.r-project.org/\") {\n",
    "    if (!require(lib.name, character.only=T))\n",
    "        install.packages(lib.name, repos=rep)\n",
    "    library(lib.name, character.only=T)\n",
    "}\n",
    "load.lib(\"data.table\")\n",
    "load.lib(\"knitr\")\n",
    "load.lib(\"ggplot2\")\n",
    "\n",
    "printf <- function(...) invisible(cat(paste(sprintf(...), \"\\n\", sep=\"\"))) # source: http://stackoverflow.com/a/13023329\n",
    "# Usage example: print(\"%s %d\", Number, 5)\n",
    "\n",
    "dir.create(\"data\", showWarnings = FALSE)\n",
    "\n",
    "# Baixa os dados da pasta HCI do github para uma pasta local `data`\n",
    "github.base.url = \"https://raw.githubusercontent.com/calmattoso/INF1335/master/A5/ihc/\" \n",
    "file.names = c(\"artigo\", \"autor\", \"instituicao\", \"keyword\", \"pessoa\", \"referencia\")\n",
    "for (file.name in file.names) {\n",
    "    file.name.extension = paste(file.name, \".csv\", sep=\"\")\n",
    "    file.path = paste(\"data/\", file.name.extension, sep=\"\")\n",
    "    if (!file.exists(file.path))    \n",
    "        download.file(paste(github.base.url, file.name.extension, sep=\"\"), destfile=file.path, method=\"curl\")\n",
    "}\n",
    " \n",
    "# Show user message indicating that different results might be observed if R version is less than 3.2.2\n",
    "r.version = R.Version()\n",
    "if (r.version$major < \"3\") {\n",
    "    print(\"This notebook was develop under R major version 3. If your machine runs a version below 3, abnormal behavior should be expected.\")\n",
    "} else if (paste(r.version$major, r.version$minor, sep=\"\") < \"3.2.2\") {\n",
    "    print(\"This notebook was developed under R version 3.2.2.  If your machine runs a version below this, small differences could occur.\")\n",
    "}"
   ]
  },
  {
   "cell_type": "markdown",
   "metadata": {},
   "source": [
    "## Leitura Inicial dos Dados"
   ]
  },
  {
   "cell_type": "code",
   "execution_count": 2,
   "metadata": {
    "collapsed": false
   },
   "outputs": [
    {
     "data": {
      "text/plain": [
       "            Length Class      Mode\n",
       "artigo      8      data.frame list\n",
       "autor       7      data.frame list\n",
       "instituicao 6      data.frame list\n",
       "keyword     3      data.frame list\n",
       "pessoa      3      data.frame list\n",
       "referencia  9      data.frame list"
      ]
     },
     "execution_count": 2,
     "metadata": {},
     "output_type": "execute_result"
    }
   ],
   "source": [
    "data.map = list()\n",
    "for (file.name in file.names) {\n",
    "    file.name.extension = paste(file.name, \".csv\", sep=\"\")\n",
    "    file.path = paste(\"data/\", file.name.extension, sep=\"\")\n",
    "    \n",
    "    # Read strings as strings due to the nature of the files. This can be fixed on a case by case basis later\n",
    "    if (file.exists(file.path))    \n",
    "        data.map[[file.name]] = read.csv(file.path, fileEncoding=\"UTF-8\", stringsAsFactor=F)\n",
    "}\n",
    "summary(data.map)"
   ]
  },
  {
   "cell_type": "markdown",
   "metadata": {},
   "source": [
    "## Examinação dos Dados\n",
    "\n",
    "### Funções Auxiliares"
   ]
  },
  {
   "cell_type": "code",
   "execution_count": 3,
   "metadata": {
    "collapsed": false
   },
   "outputs": [],
   "source": [
    "# Exibe algumas estatísticas de atributos do tipo \"character\"\n",
    "explore.text.attr <- function(attr.data, attr.name) {\n",
    "    if (typeof(attr.data) == \"character\") {\n",
    "        printf(\"Análise Exploratória de `%s`\", attr.name)\n",
    "        printf(\"  Número de valores distintos e total: %d/%d\", \n",
    "               length(unique(attr.data)), length(attr.data))\n",
    "\n",
    "        printf(\"  Quantas instâncias tem conteúdo não vazio (não é `string` vazio): %d (%%%.2f)\", \n",
    "               sum(attr.data != \"\"), sum(attr.data != \"\")/length(attr.data)*100.0)\n",
    "        \n",
    "        random.attr.sample = sample(attr.data[attr.data != \"\"], 5, replace=T)\n",
    "        printf(\"  Amostra de instâncias de `%s`:\", attr.name)\n",
    "        printf(\"    %s\", random.attr.sample)\n",
    "        printf(\"\")\n",
    "    }\n",
    "}\n",
    "\n",
    "# Executa a exploração básica de uma base de dados\n",
    "explore.dataset <- function(dataset.name) {\n",
    "    dataset = data.map[[dataset.name]]\n",
    "\n",
    "    # Exploração dos atributos de tipo \"char\" da base de dados\n",
    "    for (attr.name in names(dataset)) {\n",
    "        explore.text.attr(dataset[[attr.name]], attr.name)\n",
    "    }\n",
    "    \n",
    "    dataset\n",
    "}"
   ]
  },
  {
   "cell_type": "markdown",
   "metadata": {},
   "source": [
    "### _artigo.csv_\n",
    "\n",
    "Utilizemos as funções `str` e `summary` para entender a forma dos dados lidos e se seus tipos são apropriados. Além disso, exibem-se algumas estatísticas sobre atributos textuais, a fim de determinar o melhor tipo para representá-los e detecção de valores faltantes (_missing values_)."
   ]
  },
  {
   "cell_type": "code",
   "execution_count": 4,
   "metadata": {
    "collapsed": false,
    "scrolled": false
   },
   "outputs": [
    {
     "name": "stdout",
     "output_type": "stream",
     "text": [
      "'data.frame':\t340 obs. of  8 variables:\n",
      " $ id_artigo    : int  4506 4507 4508 4509 4510 4511 4512 4513 4514 4515 ...\n",
      " $ ano          : int  1998 1998 1998 1998 1998 1998 1998 1998 1998 1998 ...\n",
      " $ titulo       : chr  \"Uma Abordagem Semiótica à Análise de Interfaces: um estudo de caso\" \"Knowledge and Communication Perspectives in Extensible Applications\" \"Uma Abordagem Ergonômica para o Desenvolvimento de Sistemas Interativos\" \"Estudo de Interação para um Sistema de Ensino à Distância Baseado em Interfaces de Realidade Virtual\" ...\n",
      " $ idioma       : chr  \"PT-BR\" \"EN\" \"PT-BR\" \"PT-BR\" ...\n",
      " $ tema         : chr  \"\" \"\" \"\" \"\" ...\n",
      " $ acm_chave    : chr  \"\" \"\" \"\" \"\" ...\n",
      " $ acm_categoria: chr  \"\" \"\" \"\" \"\" ...\n",
      " $ acm_termos   : chr  \"\" \"\" \"\" \"\" ...\n"
     ]
    },
    {
     "data": {
      "text/plain": [
       "   id_artigo         ano          titulo             idioma         \n",
       " Min.   :4506   Min.   :1998   Length:340         Length:340        \n",
       " 1st Qu.:4591   1st Qu.:2002   Class :character   Class :character  \n",
       " Median :4676   Median :2010   Mode  :character   Mode  :character  \n",
       " Mean   :4677   Mean   :2008                                        \n",
       " 3rd Qu.:4760   3rd Qu.:2013                                        \n",
       " Max.   :4854   Max.   :2015                                        \n",
       "     tema            acm_chave         acm_categoria       acm_termos       \n",
       " Length:340         Length:340         Length:340         Length:340        \n",
       " Class :character   Class :character   Class :character   Class :character  \n",
       " Mode  :character   Mode  :character   Mode  :character   Mode  :character  \n",
       "                                                                            \n",
       "                                                                            \n",
       "                                                                            "
      ]
     },
     "execution_count": 4,
     "metadata": {},
     "output_type": "execute_result"
    },
    {
     "data": {
      "text/html": [
       "<table>\n",
       "<thead><tr><th></th><th scope=col>id_artigo</th><th scope=col>ano</th><th scope=col>titulo</th><th scope=col>idioma</th><th scope=col>tema</th><th scope=col>acm_chave</th><th scope=col>acm_categoria</th><th scope=col>acm_termos</th></tr></thead>\n",
       "<tbody>\n",
       "\t<tr><th scope=row>1</th><td>4506</td><td>1998</td><td>Uma Abordagem Semiótica à Análise de Interfaces: um estudo de caso</td><td>PT-BR</td><td></td><td></td><td></td><td></td></tr>\n",
       "\t<tr><th scope=row>2</th><td>4507</td><td>1998</td><td>Knowledge and Communication Perspectives in Extensible Applications</td><td>EN</td><td></td><td></td><td></td><td></td></tr>\n",
       "\t<tr><th scope=row>3</th><td>4508</td><td>1998</td><td>Uma Abordagem Ergonômica para o Desenvolvimento de Sistemas Interativos</td><td>PT-BR</td><td></td><td></td><td></td><td></td></tr>\n",
       "\t<tr><th scope=row>4</th><td>4509</td><td>1998</td><td>Estudo de Interação para um Sistema de Ensino à Distância Baseado em Interfaces de Realidade Virtual</td><td>PT-BR</td><td></td><td></td><td></td><td></td></tr>\n",
       "\t<tr><th scope=row>5</th><td>4510</td><td>1998</td><td>APIS: Método para Desenvolvimento de Interfaces Homem-Computador em Sistemas de Segurança Visando a Confiabilidade Humana</td><td>PT-BR</td><td></td><td></td><td></td><td></td></tr>\n",
       "\t<tr><th scope=row>6</th><td>4511</td><td>1998</td><td>Interação, Interfaces e Instrumentos em Música Eletroacústica</td><td>PT-BR</td><td></td><td></td><td></td><td></td></tr>\n",
       "</tbody>\n",
       "</table>\n"
      ],
      "text/latex": [
       "\\begin{tabular}{r|llllllll}\n",
       "  & id_artigo & ano & titulo & idioma & tema & acm_chave & acm_categoria & acm_termos\\\\\n",
       "\\hline\n",
       "\t1 & 4506 & 1998 & Uma Abordagem Semiótica à Análise de Interfaces: um estudo de caso & PT-BR &  &  &  & \\\\\n",
       "\t2 & 4507 & 1998 & Knowledge and Communication Perspectives in Extensible Applications & EN &  &  &  & \\\\\n",
       "\t3 & 4508 & 1998 & Uma Abordagem Ergonômica para o Desenvolvimento de Sistemas Interativos & PT-BR &  &  &  & \\\\\n",
       "\t4 & 4509 & 1998 & Estudo de Interação para um Sistema de Ensino à Distância Baseado em Interfaces de Realidade Virtual & PT-BR &  &  &  & \\\\\n",
       "\t5 & 4510 & 1998 & APIS: Método para Desenvolvimento de Interfaces Homem-Computador em Sistemas de Segurança Visando a Confiabilidade Humana & PT-BR &  &  &  & \\\\\n",
       "\t6 & 4511 & 1998 & Interação, Interfaces e Instrumentos em Música Eletroacústica & PT-BR &  &  &  & \\\\\n",
       "\\end{tabular}\n"
      ],
      "text/plain": [
       "  id_artigo  ano\n",
       "1      4506 1998\n",
       "2      4507 1998\n",
       "3      4508 1998\n",
       "4      4509 1998\n",
       "5      4510 1998\n",
       "6      4511 1998\n",
       "                                                                                                                     titulo\n",
       "1                                                        Uma Abordagem Semiótica à Análise de Interfaces: um estudo de caso\n",
       "2                                                       Knowledge and Communication Perspectives in Extensible Applications\n",
       "3                                                   Uma Abordagem Ergonômica para o Desenvolvimento de Sistemas Interativos\n",
       "4                      Estudo de Interação para um Sistema de Ensino à Distância Baseado em Interfaces de Realidade Virtual\n",
       "5 APIS: Método para Desenvolvimento de Interfaces Homem-Computador em Sistemas de Segurança Visando a Confiabilidade Humana\n",
       "6                                                             Interação, Interfaces e Instrumentos em Música Eletroacústica\n",
       "  idioma tema acm_chave acm_categoria acm_termos\n",
       "1  PT-BR                                        \n",
       "2     EN                                        \n",
       "3  PT-BR                                        \n",
       "4  PT-BR                                        \n",
       "5  PT-BR                                        \n",
       "6  PT-BR                                        "
      ]
     },
     "execution_count": 4,
     "metadata": {},
     "output_type": "execute_result"
    },
    {
     "data": {
      "text/html": [
       "<table>\n",
       "<thead><tr><th></th><th scope=col>id_artigo</th><th scope=col>ano</th><th scope=col>titulo</th><th scope=col>idioma</th><th scope=col>tema</th><th scope=col>acm_chave</th><th scope=col>acm_categoria</th><th scope=col>acm_termos</th></tr></thead>\n",
       "<tbody>\n",
       "\t<tr><th scope=row>335</th><td>4849</td><td>2015</td><td>O Pensamento Computacional Através de Jogos Infantis</td><td>PT-BR</td><td>education and hci</td><td>H.5.2. User Interfaces.</td><td></td><td></td></tr>\n",
       "\t<tr><th scope=row>336</th><td>4850</td><td>2015</td><td>Investigating Treemap Visualization in Inverted Scale</td><td>EN</td><td>information visualization</td><td>H.5.2. User Interfaces: Evaluation/Methodology</td><td></td><td></td></tr>\n",
       "\t<tr><th scope=row>337</th><td>4851</td><td>2015</td><td>Visualization Mechanisms for Crowdsourcing Information in Emergency Coordination</td><td>EN</td><td>information visualization</td><td>H.4.2 Information system applications: Types of Systems— decision support</td><td></td><td></td></tr>\n",
       "\t<tr><th scope=row>338</th><td>4852</td><td>2015</td><td>Eye Jam: A Gaze-Controlled Musical Interface</td><td>EN</td><td>interaction with new devices</td><td>H.5.2 User Interfaces: Interaction styles, theory and methods, I.3.6 Methodology and Techniques: Int</td><td></td><td></td></tr>\n",
       "\t<tr><th scope=row>339</th><td>4853</td><td>2015</td><td>Identifying Cognitive Authority in Social Networks: a conceptual framework</td><td>EN</td><td>social interaction</td><td>H.5 Information Interfaces and Presentation: General</td><td></td><td></td></tr>\n",
       "\t<tr><th scope=row>340</th><td>4854</td><td>2015</td><td>Interaction Design Process for Healthcare Professionals: formalizing user's contexts observations</td><td>EN</td><td>design and evaluation</td><td>H.5.2. User interface</td><td></td><td></td></tr>\n",
       "</tbody>\n",
       "</table>\n"
      ],
      "text/latex": [
       "\\begin{tabular}{r|llllllll}\n",
       "  & id_artigo & ano & titulo & idioma & tema & acm_chave & acm_categoria & acm_termos\\\\\n",
       "\\hline\n",
       "\t335 & 4849 & 2015 & O Pensamento Computacional Através de Jogos Infantis & PT-BR & education and hci & H.5.2. User Interfaces. &  & \\\\\n",
       "\t336 & 4850 & 2015 & Investigating Treemap Visualization in Inverted Scale & EN & information visualization & H.5.2. User Interfaces: Evaluation/Methodology &  & \\\\\n",
       "\t337 & 4851 & 2015 & Visualization Mechanisms for Crowdsourcing Information in Emergency Coordination & EN & information visualization & H.4.2 Information system applications: Types of Systems— decision support &  & \\\\\n",
       "\t338 & 4852 & 2015 & Eye Jam: A Gaze-Controlled Musical Interface & EN & interaction with new devices & H.5.2 User Interfaces: Interaction styles, theory and methods, I.3.6 Methodology and Techniques: Int &  & \\\\\n",
       "\t339 & 4853 & 2015 & Identifying Cognitive Authority in Social Networks: a conceptual framework & EN & social interaction & H.5 Information Interfaces and Presentation: General &  & \\\\\n",
       "\t340 & 4854 & 2015 & Interaction Design Process for Healthcare Professionals: formalizing user's contexts observations & EN & design and evaluation & H.5.2. User interface &  & \\\\\n",
       "\\end{tabular}\n"
      ],
      "text/plain": [
       "    id_artigo  ano\n",
       "335      4849 2015\n",
       "336      4850 2015\n",
       "337      4851 2015\n",
       "338      4852 2015\n",
       "339      4853 2015\n",
       "340      4854 2015\n",
       "                                                                                               titulo\n",
       "335                                              O Pensamento Computacional Através de Jogos Infantis\n",
       "336                                             Investigating Treemap Visualization in Inverted Scale\n",
       "337                  Visualization Mechanisms for Crowdsourcing Information in Emergency Coordination\n",
       "338                                                      Eye Jam: A Gaze-Controlled Musical Interface\n",
       "339                        Identifying Cognitive Authority in Social Networks: a conceptual framework\n",
       "340 Interaction Design Process for Healthcare Professionals: formalizing user's contexts observations\n",
       "    idioma                         tema\n",
       "335  PT-BR            education and hci\n",
       "336     EN    information visualization\n",
       "337     EN    information visualization\n",
       "338     EN interaction with new devices\n",
       "339     EN           social interaction\n",
       "340     EN        design and evaluation\n",
       "                                                                                               acm_chave\n",
       "335                                                                              H.5.2. User Interfaces.\n",
       "336                                                       H.5.2. User Interfaces: Evaluation/Methodology\n",
       "337                            H.4.2 Information system applications: Types of Systems— decision support\n",
       "338 H.5.2 User Interfaces: Interaction styles, theory and methods, I.3.6 Methodology and Techniques: Int\n",
       "339                                                 H.5 Information Interfaces and Presentation: General\n",
       "340                                                                                H.5.2. User interface\n",
       "    acm_categoria acm_termos\n",
       "335                         \n",
       "336                         \n",
       "337                         \n",
       "338                         \n",
       "339                         \n",
       "340                         "
      ]
     },
     "execution_count": 4,
     "metadata": {},
     "output_type": "execute_result"
    },
    {
     "name": "stdout",
     "output_type": "stream",
     "text": [
      "Análise Exploratória de `titulo`\n",
      "  Número de valores distintos e total: 340/340\n",
      "  Quantas instâncias tem conteúdo não vazio (não é `string` vazio): 340 (%100.00)\n",
      "  Amostra de instâncias de `titulo`:\n",
      "    Investigating the Case-based Reasoning Process During HCI Design\n",
      "     Com que cor eu vou? Um estudo sobre cores e emoções na Interação Humano-Computador\n",
      "     Uso de Design Probes no Design de Tecnologias para Terapeutas de Crianças com Autismo\n",
      "     Can the teaching of HCI contribute for the learning of Computer Science? The case of Semiotic Engineering methods\n",
      "     Estudo de Interação para um Sistema de Ensino à Distância Baseado em Interfaces de Realidade Virtual\n",
      "\n",
      "Análise Exploratória de `idioma`\n",
      "  Número de valores distintos e total: 5/340\n",
      "  Quantas instâncias tem conteúdo não vazio (não é `string` vazio): 340 (%100.00)\n",
      "  Amostra de instâncias de `idioma`:\n",
      "    EN\n",
      "     PT-BR\n",
      "     EN\n",
      "     PT-BR\n",
      "     PT-BR\n",
      "\n",
      "Análise Exploratória de `tema`\n",
      "  Número de valores distintos e total: 40/340\n",
      "  Quantas instâncias tem conteúdo não vazio (não é `string` vazio): 135 (%39.71)\n",
      "  Amostra de instâncias de `tema`:\n",
      "    accessibility\n",
      "     ihc\n",
      "     design, health support & quality of life\n",
      "     designers and users\n",
      "     emotional aspects of interaction and end-user programming\n",
      "\n",
      "Análise Exploratória de `acm_chave`\n",
      "  Número de valores distintos e total: 115/340\n",
      "  Quantas instâncias tem conteúdo não vazio (não é `string` vazio): 130 (%38.24)\n",
      "  Amostra de instâncias de `acm_chave`:\n",
      "    H5.m. Information interfaces and presentation (e.g., HCI): Miscellaneous.\n",
      "     H.5.2 Information interfaces and presentation (e.g., HCI): User Interface\n",
      "     H.1.2 User/Machine Systems: Human factors .\n",
      "     H.5.2 User interfaces: Evaluation/methodology\n",
      "     H.5.2 Users Interfaces: Evaluation/methodology, Interaction Styles, Natural Language, Standardizatio\n",
      "\n",
      "Análise Exploratória de `acm_categoria`\n",
      "  Número de valores distintos e total: 10/340\n",
      "  Quantas instâncias tem conteúdo não vazio (não é `string` vazio): 9 (%2.65)\n",
      "  Amostra de instâncias de `acm_categoria`:\n",
      "    H.5.2 [Information Interfaces and Presentation]: User Interfaces.\n",
      "     H5.3. Group and Organization Interfaces.\n",
      "     H.4 [Information Systems Applications]: Miscellaneous;\n",
      "     D.2.2 [Software Engineering]: Design Tools and Techniques – Modules and interfaces, User Interfaces.\n",
      "     H5.2. User Interfaces; H1.2 User/Machine Systems; C2.4 Distributed Systems.\n",
      "\n",
      "Análise Exploratória de `acm_termos`\n",
      "  Número de valores distintos e total: 22/340\n",
      "  Quantas instâncias tem conteúdo não vazio (não é `string` vazio): 26 (%7.65)\n",
      "  Amostra de instâncias de `acm_termos`:\n",
      "    Interface Humano-Computador; Inovac¸ ˜ao\n",
      "     Human Factors\n",
      "     Human Factors\n",
      "     Experimentation, Human Factors.\n",
      "     Human Factors; Design; Measurement.\n",
      "\n"
     ]
    }
   ],
   "source": [
    "dataset.name = \"artigo\"\n",
    "str(data.map[[dataset.name]])\n",
    "summary(data.map[[dataset.name]])\n",
    "head(data.map[[dataset.name]])\n",
    "tail(data.map[[dataset.name]])\n",
    "artigo = explore.dataset(dataset.name)"
   ]
  },
  {
   "cell_type": "markdown",
   "metadata": {},
   "source": [
    "Observa-se que os atributos _acm_ tem bastante dados faltantes, pecando a base então em capturar sua informação. Contudo, seu tipo ser _character_ faz sentido. Por outro lado, o atributo _idioma_ define um conjunto restrito de línguas, sendo então razoável atualizar seu tipo para _factor_. Os demais atributos não apresentam valores faltantes, o que é sempre agradável de se ver."
   ]
  },
  {
   "cell_type": "code",
   "execution_count": 5,
   "metadata": {
    "collapsed": false
   },
   "outputs": [
    {
     "data": {
      "text/html": [
       "<dl class=dl-horizontal>\n",
       "\t<dt>EN</dt>\n",
       "\t\t<dd>108</dd>\n",
       "\t<dt>ES</dt>\n",
       "\t\t<dd>2</dd>\n",
       "\t<dt>P-BR</dt>\n",
       "\t\t<dd>1</dd>\n",
       "\t<dt>PT-BR</dt>\n",
       "\t\t<dd>228</dd>\n",
       "\t<dt>PT-PT</dt>\n",
       "\t\t<dd>1</dd>\n",
       "</dl>\n"
      ],
      "text/latex": [
       "\\begin{description*}\n",
       "\\item[EN] 108\n",
       "\\item[ES] 2\n",
       "\\item[P-BR] 1\n",
       "\\item[PT-BR] 228\n",
       "\\item[PT-PT] 1\n",
       "\\end{description*}\n"
      ],
      "text/markdown": [
       "EN\n",
       ":   108ES\n",
       ":   2P-BR\n",
       ":   1PT-BR\n",
       ":   228PT-PT\n",
       ":   1\n",
       "\n"
      ],
      "text/plain": [
       "   EN    ES  P-BR PT-BR PT-PT \n",
       "  108     2     1   228     1 "
      ]
     },
     "execution_count": 5,
     "metadata": {},
     "output_type": "execute_result"
    }
   ],
   "source": [
    "artigo$idioma = as.factor(artigo$idioma)\n",
    "summary(artigo$idioma)"
   ]
  },
  {
   "cell_type": "markdown",
   "metadata": {},
   "source": [
    "Aqui já se observa uma oportunidade de limpar nossos dados. Existem duas classificações para o idioma Português do Brasil, `P-BR` e `PT-BR`, o que deve ser um erro. Há ainda uma instância discriminada a Português de Portugual (`PT-PT`). Optamos por fundir estes três tipos simplesmente como `PT`, seguindo a forma das demais classificações de idiomas da base, `EN` para inglês e `ES` para espanhol."
   ]
  },
  {
   "cell_type": "code",
   "execution_count": 6,
   "metadata": {
    "collapsed": false
   },
   "outputs": [
    {
     "data": {
      "text/html": [
       "<dl class=dl-horizontal>\n",
       "\t<dt>EN</dt>\n",
       "\t\t<dd>108</dd>\n",
       "\t<dt>ES</dt>\n",
       "\t\t<dd>2</dd>\n",
       "\t<dt>PT</dt>\n",
       "\t\t<dd>230</dd>\n",
       "</dl>\n"
      ],
      "text/latex": [
       "\\begin{description*}\n",
       "\\item[EN] 108\n",
       "\\item[ES] 2\n",
       "\\item[PT] 230\n",
       "\\end{description*}\n"
      ],
      "text/markdown": [
       "EN\n",
       ":   108ES\n",
       ":   2PT\n",
       ":   230\n",
       "\n"
      ],
      "text/plain": [
       " EN  ES  PT \n",
       "108   2 230 "
      ]
     },
     "execution_count": 6,
     "metadata": {},
     "output_type": "execute_result"
    }
   ],
   "source": [
    "artigo$idioma = as.character(artigo$idioma)\n",
    "artigo$idioma[artigo$idioma == \"P-BR\" | artigo$idioma == \"PT-PT\" | artigo$idioma == \"PT-BR\"] = \"PT\"\n",
    "artigo$idioma = as.factor(artigo$idioma)\n",
    "summary(artigo$idioma)"
   ]
  },
  {
   "cell_type": "markdown",
   "metadata": {},
   "source": [
    "Apresenta-se abaixo o `summary` e `str` do resultado da limpeza da base _artigo.csv_:"
   ]
  },
  {
   "cell_type": "code",
   "execution_count": 7,
   "metadata": {
    "collapsed": false
   },
   "outputs": [
    {
     "data": {
      "text/plain": [
       "   id_artigo         ano          titulo          idioma       tema          \n",
       " Min.   :4506   Min.   :1998   Length:340         EN:108   Length:340        \n",
       " 1st Qu.:4591   1st Qu.:2002   Class :character   ES:  2   Class :character  \n",
       " Median :4676   Median :2010   Mode  :character   PT:230   Mode  :character  \n",
       " Mean   :4677   Mean   :2008                                                 \n",
       " 3rd Qu.:4760   3rd Qu.:2013                                                 \n",
       " Max.   :4854   Max.   :2015                                                 \n",
       "  acm_chave         acm_categoria       acm_termos       \n",
       " Length:340         Length:340         Length:340        \n",
       " Class :character   Class :character   Class :character  \n",
       " Mode  :character   Mode  :character   Mode  :character  \n",
       "                                                         \n",
       "                                                         \n",
       "                                                         "
      ]
     },
     "execution_count": 7,
     "metadata": {},
     "output_type": "execute_result"
    },
    {
     "name": "stdout",
     "output_type": "stream",
     "text": [
      "'data.frame':\t340 obs. of  8 variables:\n",
      " $ id_artigo    : int  4506 4507 4508 4509 4510 4511 4512 4513 4514 4515 ...\n",
      " $ ano          : int  1998 1998 1998 1998 1998 1998 1998 1998 1998 1998 ...\n",
      " $ titulo       : chr  \"Uma Abordagem Semiótica à Análise de Interfaces: um estudo de caso\" \"Knowledge and Communication Perspectives in Extensible Applications\" \"Uma Abordagem Ergonômica para o Desenvolvimento de Sistemas Interativos\" \"Estudo de Interação para um Sistema de Ensino à Distância Baseado em Interfaces de Realidade Virtual\" ...\n",
      " $ idioma       : Factor w/ 3 levels \"EN\",\"ES\",\"PT\": 3 1 3 3 3 3 3 3 3 3 ...\n",
      " $ tema         : chr  \"\" \"\" \"\" \"\" ...\n",
      " $ acm_chave    : chr  \"\" \"\" \"\" \"\" ...\n",
      " $ acm_categoria: chr  \"\" \"\" \"\" \"\" ...\n",
      " $ acm_termos   : chr  \"\" \"\" \"\" \"\" ...\n"
     ]
    }
   ],
   "source": [
    "data.map[[\"artigo\"]] = artigo\n",
    "summary(data.map[[\"artigo\"]])\n",
    "str(data.map[[\"artigo\"]])"
   ]
  },
  {
   "cell_type": "markdown",
   "metadata": {},
   "source": [
    "### _autor.csv_ \n"
   ]
  },
  {
   "cell_type": "code",
   "execution_count": 8,
   "metadata": {
    "collapsed": false
   },
   "outputs": [
    {
     "name": "stdout",
     "output_type": "stream",
     "text": [
      "'data.frame':\t1054 obs. of  7 variables:\n",
      " $ id_autor             : int  2 1 1 3 4 5 6 7 7 8 ...\n",
      " $ id_artigo            : int  4607 4533 4556 4831 4602 4822 4604 4556 4533 4654 ...\n",
      " $ id_pessoa            : int  1 1 1 2 3 4 5 6 6 7 ...\n",
      " $ id_instituicao       : int  74 112 111 14 66 231 87 83 83 130 ...\n",
      " $ instituicao_principal: chr  \"S\" \"S\" \"S\" \"S\" ...\n",
      " $ nome                 : chr  \"Adéle Malta Pontes\" \"Adéle Malta Pontes\" \"Adéle Malta Pontes\" \"Adriana Euflasino\" ...\n",
      " $ email                : chr  \"adele@inf.puc-rio.br\" \"Deli@atlas.ucpel.tche.br\" \"Deli@atlas.ucpel.tche.br\" \"adrianaeuflasino@cpfl.com.br\" ...\n"
     ]
    },
    {
     "data": {
      "text/plain": [
       "    id_autor       id_artigo      id_pessoa     id_instituicao \n",
       " Min.   :  1.0   Min.   :4506   Min.   :  1.0   Min.   :  1.0  \n",
       " 1st Qu.:177.0   1st Qu.:4595   1st Qu.:157.0   1st Qu.: 86.0  \n",
       " Median :358.5   Median :4682   Median :320.5   Median :167.0  \n",
       " Mean   :345.5   Mean   :4681   Mean   :307.0   Mean   :158.5  \n",
       " 3rd Qu.:505.8   3rd Qu.:4767   3rd Qu.:451.8   3rd Qu.:219.0  \n",
       " Max.   :659.0   Max.   :4854   Max.   :579.0   Max.   :292.0  \n",
       " instituicao_principal     nome              email          \n",
       " Length:1054           Length:1054        Length:1054       \n",
       " Class :character      Class :character   Class :character  \n",
       " Mode  :character      Mode  :character   Mode  :character  \n",
       "                                                            \n",
       "                                                            \n",
       "                                                            "
      ]
     },
     "execution_count": 8,
     "metadata": {},
     "output_type": "execute_result"
    },
    {
     "data": {
      "text/html": [
       "<table>\n",
       "<thead><tr><th></th><th scope=col>id_autor</th><th scope=col>id_artigo</th><th scope=col>id_pessoa</th><th scope=col>id_instituicao</th><th scope=col>instituicao_principal</th><th scope=col>nome</th><th scope=col>email</th></tr></thead>\n",
       "<tbody>\n",
       "\t<tr><th scope=row>1</th><td>2</td><td>4607</td><td>1</td><td>74</td><td>S</td><td>Adéle Malta Pontes</td><td>adele@inf.puc-rio.br</td></tr>\n",
       "\t<tr><th scope=row>2</th><td>1</td><td>4533</td><td>1</td><td>112</td><td>S</td><td>Adéle Malta Pontes</td><td>Deli@atlas.ucpel.tche.br</td></tr>\n",
       "\t<tr><th scope=row>3</th><td>1</td><td>4556</td><td>1</td><td>111</td><td>S</td><td>Adéle Malta Pontes</td><td>Deli@atlas.ucpel.tche.br</td></tr>\n",
       "\t<tr><th scope=row>4</th><td>3</td><td>4831</td><td>2</td><td>14</td><td>S</td><td>Adriana Euflasino</td><td>adrianaeuflasino@cpfl.com.br</td></tr>\n",
       "\t<tr><th scope=row>5</th><td>4</td><td>4602</td><td>3</td><td>66</td><td>S</td><td>Adriana Holtz Betiol</td><td>abetiol@netpar.com.br</td></tr>\n",
       "\t<tr><th scope=row>6</th><td>5</td><td>4822</td><td>4</td><td>231</td><td>S</td><td>Adriana Lopes</td><td>adriana@icomp.ufam.edu.br</td></tr>\n",
       "</tbody>\n",
       "</table>\n"
      ],
      "text/latex": [
       "\\begin{tabular}{r|lllllll}\n",
       "  & id_autor & id_artigo & id_pessoa & id_instituicao & instituicao_principal & nome & email\\\\\n",
       "\\hline\n",
       "\t1 & 2 & 4607 & 1 & 74 & S & Adéle Malta Pontes & adele@inf.puc-rio.br\\\\\n",
       "\t2 & 1 & 4533 & 1 & 112 & S & Adéle Malta Pontes & Deli@atlas.ucpel.tche.br\\\\\n",
       "\t3 & 1 & 4556 & 1 & 111 & S & Adéle Malta Pontes & Deli@atlas.ucpel.tche.br\\\\\n",
       "\t4 & 3 & 4831 & 2 & 14 & S & Adriana Euflasino & adrianaeuflasino@cpfl.com.br\\\\\n",
       "\t5 & 4 & 4602 & 3 & 66 & S & Adriana Holtz Betiol & abetiol@netpar.com.br\\\\\n",
       "\t6 & 5 & 4822 & 4 & 231 & S & Adriana Lopes & adriana@icomp.ufam.edu.br\\\\\n",
       "\\end{tabular}\n"
      ],
      "text/plain": [
       "  id_autor id_artigo id_pessoa id_instituicao instituicao_principal\n",
       "1        2      4607         1             74                     S\n",
       "2        1      4533         1            112                     S\n",
       "3        1      4556         1            111                     S\n",
       "4        3      4831         2             14                     S\n",
       "5        4      4602         3             66                     S\n",
       "6        5      4822         4            231                     S\n",
       "                  nome                        email\n",
       "1   Adéle Malta Pontes         adele@inf.puc-rio.br\n",
       "2   Adéle Malta Pontes     Deli@atlas.ucpel.tche.br\n",
       "3   Adéle Malta Pontes     Deli@atlas.ucpel.tche.br\n",
       "4    Adriana Euflasino adrianaeuflasino@cpfl.com.br\n",
       "5 Adriana Holtz Betiol        abetiol@netpar.com.br\n",
       "6        Adriana Lopes    adriana@icomp.ufam.edu.br"
      ]
     },
     "execution_count": 8,
     "metadata": {},
     "output_type": "execute_result"
    },
    {
     "data": {
      "text/html": [
       "<table>\n",
       "<thead><tr><th></th><th scope=col>id_autor</th><th scope=col>id_artigo</th><th scope=col>id_pessoa</th><th scope=col>id_instituicao</th><th scope=col>instituicao_principal</th><th scope=col>nome</th><th scope=col>email</th></tr></thead>\n",
       "<tbody>\n",
       "\t<tr><th scope=row>1049</th><td>654</td><td>4697</td><td>574</td><td>2</td><td>S</td><td>Wander Antunes Gaspar Valente</td><td>wandergaspar@gmail.com</td></tr>\n",
       "\t<tr><th scope=row>1050</th><td>655</td><td>4545</td><td>575</td><td>213</td><td>S</td><td>Wellington B. do Nascimento Jr.</td><td>wess@eps.ufsc.br</td></tr>\n",
       "\t<tr><th scope=row>1051</th><td>656</td><td>4700</td><td>576</td><td>39</td><td>S</td><td>William J. Giraldo</td><td>aaaa@aaaa.aaa.aaa</td></tr>\n",
       "\t<tr><th scope=row>1052</th><td>657</td><td>4778</td><td>577</td><td>232</td><td>S</td><td>Williamson Silva</td><td>williamson.silva@icomp.ufam.edu.br</td></tr>\n",
       "\t<tr><th scope=row>1053</th><td>658</td><td>4787</td><td>578</td><td>57</td><td>S</td><td>Yngve Sundblad</td><td>y@kth.se</td></tr>\n",
       "\t<tr><th scope=row>1054</th><td>659</td><td>4633</td><td>579</td><td>101</td><td>S</td><td>Yulia Ostróvskaya</td><td>yuliaa.ostrovskaya@udlap.mx</td></tr>\n",
       "</tbody>\n",
       "</table>\n"
      ],
      "text/latex": [
       "\\begin{tabular}{r|lllllll}\n",
       "  & id_autor & id_artigo & id_pessoa & id_instituicao & instituicao_principal & nome & email\\\\\n",
       "\\hline\n",
       "\t1049 & 654 & 4697 & 574 & 2 & S & Wander Antunes Gaspar Valente & wandergaspar@gmail.com\\\\\n",
       "\t1050 & 655 & 4545 & 575 & 213 & S & Wellington B. do Nascimento Jr. & wess@eps.ufsc.br\\\\\n",
       "\t1051 & 656 & 4700 & 576 & 39 & S & William J. Giraldo & aaaa@aaaa.aaa.aaa\\\\\n",
       "\t1052 & 657 & 4778 & 577 & 232 & S & Williamson Silva & williamson.silva@icomp.ufam.edu.br\\\\\n",
       "\t1053 & 658 & 4787 & 578 & 57 & S & Yngve Sundblad & y@kth.se\\\\\n",
       "\t1054 & 659 & 4633 & 579 & 101 & S & Yulia Ostróvskaya & yuliaa.ostrovskaya@udlap.mx\\\\\n",
       "\\end{tabular}\n"
      ],
      "text/plain": [
       "     id_autor id_artigo id_pessoa id_instituicao instituicao_principal\n",
       "1049      654      4697       574              2                     S\n",
       "1050      655      4545       575            213                     S\n",
       "1051      656      4700       576             39                     S\n",
       "1052      657      4778       577            232                     S\n",
       "1053      658      4787       578             57                     S\n",
       "1054      659      4633       579            101                     S\n",
       "                                nome                              email\n",
       "1049   Wander Antunes Gaspar Valente             wandergaspar@gmail.com\n",
       "1050 Wellington B. do Nascimento Jr.                   wess@eps.ufsc.br\n",
       "1051              William J. Giraldo                  aaaa@aaaa.aaa.aaa\n",
       "1052                Williamson Silva williamson.silva@icomp.ufam.edu.br\n",
       "1053                  Yngve Sundblad                           y@kth.se\n",
       "1054               Yulia Ostróvskaya        yuliaa.ostrovskaya@udlap.mx"
      ]
     },
     "execution_count": 8,
     "metadata": {},
     "output_type": "execute_result"
    },
    {
     "name": "stdout",
     "output_type": "stream",
     "text": [
      "Análise Exploratória de `instituicao_principal`\n",
      "  Número de valores distintos e total: 2/1054\n",
      "  Quantas instâncias tem conteúdo não vazio (não é `string` vazio): 1054 (%100.00)\n",
      "  Amostra de instâncias de `instituicao_principal`:\n",
      "    S\n",
      "     S\n",
      "     S\n",
      "     S\n",
      "     S\n",
      "\n",
      "Análise Exploratória de `nome`\n",
      "  Número de valores distintos e total: 579/1054\n",
      "  Quantas instâncias tem conteúdo não vazio (não é `string` vazio): 1054 (%100.00)\n",
      "  Amostra de instâncias de `nome`:\n",
      "    Shirley Gois Barreto\n",
      "     Ana I. Grimaldo-Martínez\n",
      "     Simone D. J. Barbosa\n",
      "     Elizabeth Furtado\n",
      "     Plínio Thomaz Aquino Junior\n",
      "\n",
      "Análise Exploratória de `email`\n",
      "  Número de valores distintos e total: 622/1054\n",
      "  Quantas instâncias tem conteúdo não vazio (não é `string` vazio): 1048 (%99.43)\n",
      "  Amostra de instâncias de `email`:\n",
      "    clarisse@inf.puc-rio.br\n",
      "     clarisse@inf.puc-rio.br\n",
      "     le.guarino@gmail.com\n",
      "     elizabet@unifor.br\n",
      "     clarisse@inf.pucrio.br\n",
      "\n"
     ]
    }
   ],
   "source": [
    "dataset.name = \"autor\"\n",
    "str(data.map[[dataset.name]])\n",
    "summary(data.map[[dataset.name]])\n",
    "head(data.map[[dataset.name]])\n",
    "tail(data.map[[dataset.name]])\n",
    "autor = explore.dataset(dataset.name)"
   ]
  },
  {
   "cell_type": "markdown",
   "metadata": {},
   "source": [
    "Aqui não se observa a ausência de valores. O único ajuste válido é alterar o tipo da variável `instituicao_principal` para `factor`, visto que ela indica `Sim` ou `Não` para se a instituição referenciada é principal ou não."
   ]
  },
  {
   "cell_type": "code",
   "execution_count": 9,
   "metadata": {
    "collapsed": false
   },
   "outputs": [
    {
     "data": {
      "text/plain": [
       "    id_autor       id_artigo      id_pessoa     id_instituicao \n",
       " Min.   :  1.0   Min.   :4506   Min.   :  1.0   Min.   :  1.0  \n",
       " 1st Qu.:177.0   1st Qu.:4595   1st Qu.:157.0   1st Qu.: 86.0  \n",
       " Median :358.5   Median :4682   Median :320.5   Median :167.0  \n",
       " Mean   :345.5   Mean   :4681   Mean   :307.0   Mean   :158.5  \n",
       " 3rd Qu.:505.8   3rd Qu.:4767   3rd Qu.:451.8   3rd Qu.:219.0  \n",
       " Max.   :659.0   Max.   :4854   Max.   :579.0   Max.   :292.0  \n",
       " instituicao_principal     nome              email          \n",
       " N:  46                Length:1054        Length:1054       \n",
       " S:1008                Class :character   Class :character  \n",
       "                       Mode  :character   Mode  :character  \n",
       "                                                            \n",
       "                                                            \n",
       "                                                            "
      ]
     },
     "execution_count": 9,
     "metadata": {},
     "output_type": "execute_result"
    },
    {
     "name": "stdout",
     "output_type": "stream",
     "text": [
      "'data.frame':\t1054 obs. of  7 variables:\n",
      " $ id_autor             : int  2 1 1 3 4 5 6 7 7 8 ...\n",
      " $ id_artigo            : int  4607 4533 4556 4831 4602 4822 4604 4556 4533 4654 ...\n",
      " $ id_pessoa            : int  1 1 1 2 3 4 5 6 6 7 ...\n",
      " $ id_instituicao       : int  74 112 111 14 66 231 87 83 83 130 ...\n",
      " $ instituicao_principal: Factor w/ 2 levels \"N\",\"S\": 2 2 2 2 2 2 2 2 2 2 ...\n",
      " $ nome                 : chr  \"Adéle Malta Pontes\" \"Adéle Malta Pontes\" \"Adéle Malta Pontes\" \"Adriana Euflasino\" ...\n",
      " $ email                : chr  \"adele@inf.puc-rio.br\" \"Deli@atlas.ucpel.tche.br\" \"Deli@atlas.ucpel.tche.br\" \"adrianaeuflasino@cpfl.com.br\" ...\n"
     ]
    }
   ],
   "source": [
    "autor$instituicao_principal = as.factor(autor$instituicao_principal)\n",
    "data.map[[dataset.name]] = autor\n",
    "summary(data.map[[dataset.name]])\n",
    "str(data.map[[dataset.name]])"
   ]
  },
  {
   "cell_type": "markdown",
   "metadata": {},
   "source": [
    "### _instituicao.csv_ "
   ]
  },
  {
   "cell_type": "code",
   "execution_count": 10,
   "metadata": {
    "collapsed": false
   },
   "outputs": [
    {
     "name": "stdout",
     "output_type": "stream",
     "text": [
      "'data.frame':\t292 obs. of  6 variables:\n",
      " $ id_instituicao: int  74 112 111 14 66 231 87 83 130 121 ...\n",
      " $ instituicao   : chr  \"Pontifícia Universidade Católica do Rio de Janeiro\" \"Universidade Católica de Pelotas\" \"Universidade Católica de Pelotas\" \"Companhia Paulista de Força e Luz Paulista\" ...\n",
      " $ sigla         : chr  \"PUC-Rio\" \"UCPEL\" \"UCPel\" \"CPFL\" ...\n",
      " $ departamento  : chr  \"Depto de Informática\" \"\" \"\" \"\" ...\n",
      " $ estado        : chr  \"RJ\" \"RS\" \"RS\" \"SP\" ...\n",
      " $ pais          : chr  \"Brasil\" \"Brasil\" \"Brasil\" \"Brasil\" ...\n"
     ]
    },
    {
     "data": {
      "text/plain": [
       " id_instituicao   instituicao           sigla           departamento      \n",
       " Min.   :  1.00   Length:292         Length:292         Length:292        \n",
       " 1st Qu.: 73.75   Class :character   Class :character   Class :character  \n",
       " Median :146.50   Mode  :character   Mode  :character   Mode  :character  \n",
       " Mean   :146.50                                                           \n",
       " 3rd Qu.:219.25                                                           \n",
       " Max.   :292.00                                                           \n",
       "    estado              pais          \n",
       " Length:292         Length:292        \n",
       " Class :character   Class :character  \n",
       " Mode  :character   Mode  :character  \n",
       "                                      \n",
       "                                      \n",
       "                                      "
      ]
     },
     "execution_count": 10,
     "metadata": {},
     "output_type": "execute_result"
    },
    {
     "data": {
      "text/html": [
       "<table>\n",
       "<thead><tr><th></th><th scope=col>id_instituicao</th><th scope=col>instituicao</th><th scope=col>sigla</th><th scope=col>departamento</th><th scope=col>estado</th><th scope=col>pais</th></tr></thead>\n",
       "<tbody>\n",
       "\t<tr><th scope=row>1</th><td>74</td><td>Pontifícia Universidade Católica do Rio de Janeiro</td><td>PUC-Rio</td><td>Depto de Informática</td><td>RJ</td><td>Brasil</td></tr>\n",
       "\t<tr><th scope=row>2</th><td>112</td><td>Universidade Católica de Pelotas</td><td>UCPEL</td><td></td><td>RS</td><td>Brasil</td></tr>\n",
       "\t<tr><th scope=row>3</th><td>111</td><td>Universidade Católica de Pelotas</td><td>UCPel</td><td></td><td>RS</td><td>Brasil</td></tr>\n",
       "\t<tr><th scope=row>4</th><td>14</td><td>Companhia Paulista de Força e Luz Paulista</td><td>CPFL</td><td></td><td>SP</td><td>Brasil</td></tr>\n",
       "\t<tr><th scope=row>5</th><td>66</td><td>Pontifícia Universidade Católica do Paraná</td><td>PUCPR</td><td></td><td>PR</td><td>Brasil</td></tr>\n",
       "\t<tr><th scope=row>6</th><td>231</td><td>Universidade Federal do Amazonas</td><td>UFAM</td><td>Grupo de Pesquisa sobre Usabilidade e Engenharia de Software</td><td>AM</td><td>Brasil</td></tr>\n",
       "</tbody>\n",
       "</table>\n"
      ],
      "text/latex": [
       "\\begin{tabular}{r|llllll}\n",
       "  & id_instituicao & instituicao & sigla & departamento & estado & pais\\\\\n",
       "\\hline\n",
       "\t1 & 74 & Pontifícia Universidade Católica do Rio de Janeiro & PUC-Rio & Depto de Informática & RJ & Brasil\\\\\n",
       "\t2 & 112 & Universidade Católica de Pelotas & UCPEL &  & RS & Brasil\\\\\n",
       "\t3 & 111 & Universidade Católica de Pelotas & UCPel &  & RS & Brasil\\\\\n",
       "\t4 & 14 & Companhia Paulista de Força e Luz Paulista & CPFL &  & SP & Brasil\\\\\n",
       "\t5 & 66 & Pontifícia Universidade Católica do Paraná & PUCPR &  & PR & Brasil\\\\\n",
       "\t6 & 231 & Universidade Federal do Amazonas & UFAM & Grupo de Pesquisa sobre Usabilidade e Engenharia de Software & AM & Brasil\\\\\n",
       "\\end{tabular}\n"
      ],
      "text/plain": [
       "  id_instituicao                                        instituicao   sigla\n",
       "1             74 Pontifícia Universidade Católica do Rio de Janeiro PUC-Rio\n",
       "2            112                   Universidade Católica de Pelotas   UCPEL\n",
       "3            111                   Universidade Católica de Pelotas   UCPel\n",
       "4             14         Companhia Paulista de Força e Luz Paulista    CPFL\n",
       "5             66         Pontifícia Universidade Católica do Paraná   PUCPR\n",
       "6            231                   Universidade Federal do Amazonas    UFAM\n",
       "                                                  departamento estado   pais\n",
       "1                                         Depto de Informática     RJ Brasil\n",
       "2                                                                  RS Brasil\n",
       "3                                                                  RS Brasil\n",
       "4                                                                  SP Brasil\n",
       "5                                                                  PR Brasil\n",
       "6 Grupo de Pesquisa sobre Usabilidade e Engenharia de Software     AM Brasil"
      ]
     },
     "execution_count": 10,
     "metadata": {},
     "output_type": "execute_result"
    },
    {
     "data": {
      "text/html": [
       "<table>\n",
       "<thead><tr><th></th><th scope=col>id_instituicao</th><th scope=col>instituicao</th><th scope=col>sigla</th><th scope=col>departamento</th><th scope=col>estado</th><th scope=col>pais</th></tr></thead>\n",
       "<tbody>\n",
       "\t<tr><th scope=row>287</th><td>94</td><td>Tecnologico Autónomo de México</td><td>ITAM</td><td>Computer Science Department Instituto</td><td></td><td>México</td></tr>\n",
       "\t<tr><th scope=row>288</th><td>191</td><td>Universidade Federal de Mato Grosso</td><td>UFMT</td><td>Instituto de Linguagens</td><td>MT</td><td>Brasil</td></tr>\n",
       "\t<tr><th scope=row>289</th><td>51</td><td>Instituto Federal de Mato Grosso</td><td>IFMT</td><td>Área de Linguagens</td><td>MT</td><td>Brasil</td></tr>\n",
       "\t<tr><th scope=row>290</th><td>77</td><td>Pontifícia Universidade Católica do Rio de Janeiro</td><td>PUC-Rio</td><td>Depto. de Letras</td><td>RJ</td><td>Brasil</td></tr>\n",
       "\t<tr><th scope=row>291</th><td>206</td><td>Universidade Federal de Santa Catarina</td><td>UFSC</td><td>CTC</td><td>SC</td><td>Brasil</td></tr>\n",
       "\t<tr><th scope=row>292</th><td>213</td><td>Universidade Federal de Santa Catarina</td><td>UFSC</td><td>Programa de Pós Graduação em Ciência da Computação</td><td>SC</td><td>Brasil</td></tr>\n",
       "</tbody>\n",
       "</table>\n"
      ],
      "text/latex": [
       "\\begin{tabular}{r|llllll}\n",
       "  & id_instituicao & instituicao & sigla & departamento & estado & pais\\\\\n",
       "\\hline\n",
       "\t287 & 94 & Tecnologico Autónomo de México & ITAM & Computer Science Department Instituto &  & México\\\\\n",
       "\t288 & 191 & Universidade Federal de Mato Grosso & UFMT & Instituto de Linguagens & MT & Brasil\\\\\n",
       "\t289 & 51 & Instituto Federal de Mato Grosso & IFMT & Área de Linguagens & MT & Brasil\\\\\n",
       "\t290 & 77 & Pontifícia Universidade Católica do Rio de Janeiro & PUC-Rio & Depto. de Letras & RJ & Brasil\\\\\n",
       "\t291 & 206 & Universidade Federal de Santa Catarina & UFSC & CTC & SC & Brasil\\\\\n",
       "\t292 & 213 & Universidade Federal de Santa Catarina & UFSC & Programa de Pós Graduação em Ciência da Computação & SC & Brasil\\\\\n",
       "\\end{tabular}\n"
      ],
      "text/plain": [
       "    id_instituicao                                        instituicao   sigla\n",
       "287             94                     Tecnologico Autónomo de México    ITAM\n",
       "288            191                Universidade Federal de Mato Grosso    UFMT\n",
       "289             51                   Instituto Federal de Mato Grosso    IFMT\n",
       "290             77 Pontifícia Universidade Católica do Rio de Janeiro PUC-Rio\n",
       "291            206             Universidade Federal de Santa Catarina    UFSC\n",
       "292            213             Universidade Federal de Santa Catarina    UFSC\n",
       "                                          departamento estado   pais\n",
       "287              Computer Science Department Instituto        México\n",
       "288                            Instituto de Linguagens     MT Brasil\n",
       "289                                 Área de Linguagens     MT Brasil\n",
       "290                                   Depto. de Letras     RJ Brasil\n",
       "291                                                CTC     SC Brasil\n",
       "292 Programa de Pós Graduação em Ciência da Computação     SC Brasil"
      ]
     },
     "execution_count": 10,
     "metadata": {},
     "output_type": "execute_result"
    },
    {
     "name": "stdout",
     "output_type": "stream",
     "text": [
      "Análise Exploratória de `instituicao`\n",
      "  Número de valores distintos e total: 137/292\n",
      "  Quantas instâncias tem conteúdo não vazio (não é `string` vazio): 292 (%100.00)\n",
      "  Amostra de instâncias de `instituicao`:\n",
      "    Universidad del Cauca\n",
      "     Universidade Federal do Rio Grande do Sul\n",
      "     University of Reading\n",
      "     Universidade Federal do Maranhão\n",
      "     Universidade Cruzeiro do Sul\n",
      "\n",
      "Análise Exploratória de `sigla`\n",
      "  Número de valores distintos e total: 130/292\n",
      "  Quantas instâncias tem conteúdo não vazio (não é `string` vazio): 269 (%92.12)\n",
      "  Amostra de instâncias de `sigla`:\n",
      "    UMA\n",
      "     UFVJM\n",
      "     UFSC\n",
      "     UFSCar\n",
      "     UNIFACS\n",
      "\n",
      "Análise Exploratória de `departamento`\n",
      "  Número de valores distintos e total: 126/292\n",
      "  Quantas instâncias tem conteúdo não vazio (não é `string` vazio): 159 (%54.45)\n",
      "  Amostra de instâncias de `departamento`:\n",
      "    Escola Politécnica\n",
      "     Departamento de Ciência da Computação\n",
      "     Depto de Informatica e Estatística\n",
      "     Laboratório de Interação Avançada (LIA)\n",
      "     Departamento de Ciência da Computação\n",
      "\n",
      "Análise Exploratória de `estado`\n",
      "  Número de valores distintos e total: 23/292\n",
      "  Quantas instâncias tem conteúdo não vazio (não é `string` vazio): 261 (%89.38)\n",
      "  Amostra de instâncias de `estado`:\n",
      "    1\n",
      "     CE\n",
      "     RJ\n",
      "     MA\n",
      "     RJ\n",
      "\n",
      "Análise Exploratória de `pais`\n",
      "  Número de valores distintos e total: 16/292\n",
      "  Quantas instâncias tem conteúdo não vazio (não é `string` vazio): 272 (%93.15)\n",
      "  Amostra de instâncias de `pais`:\n",
      "    Brasil\n",
      "     Brasil\n",
      "     Brasil\n",
      "     Brasil\n",
      "     Brasil\n",
      "\n"
     ]
    }
   ],
   "source": [
    "dataset.name = \"instituicao\"\n",
    "str(data.map[[dataset.name]])\n",
    "summary(data.map[[dataset.name]])\n",
    "head(data.map[[dataset.name]])\n",
    "tail(data.map[[dataset.name]])\n",
    "instituicao = explore.dataset(dataset.name)"
   ]
  },
  {
   "cell_type": "markdown",
   "metadata": {},
   "source": [
    "Esta base de dados tem algumas informações sobre as diferentes instituições de ensino superior que participaram dos eventos de IHC. Não há nada muito crítico aqui, havendo no geral poucos dados faltantes, exceto no caso de departamento, que não foi reportado para 50% dos casos. Além disso, os tipos são condizentes com o significado dos atributos. Por fim, uma observação interessante pode ser feita para o atributo `estado`:"
   ]
  },
  {
   "cell_type": "code",
   "execution_count": 14,
   "metadata": {
    "collapsed": false
   },
   "outputs": [
    {
     "name": "stdout",
     "output_type": "stream",
     "text": [
      " [1] \"RJ\" \"RS\" \"SP\" \"PR\" \"AM\" \"CE\" \"PE\" \"MG\" \"RN\" \"MT\" \"GO\" \"\"   \"PB\" \"BA\" \"1\" \n",
      "[16] \"SC\" \"MA\" \"ES\" \"DF\" \"AC\" \"PA\" \"SE\" \"MS\"\n",
      " [1] \"Brasil\"     \"\"           \"México\"     \"Argentina\"  \"Suécia\"    \n",
      " [6] \"Colômbia\"   \"Inglaterra\" \"França\"     \"Chike\"      \"Chile\"     \n",
      "[11] \"Bélgica\"    \"Canadá\"     \"Alemanha\"   \"Portugal\"   \"Itália\"    \n",
      "[16] \"Espanha\"   \n"
     ]
    }
   ],
   "source": [
    "print(unique(instituicao$estado))\n",
    "print(unique(instituicao$pais))"
   ]
  },
  {
   "cell_type": "markdown",
   "metadata": {},
   "source": [
    "Apenas estados brasileiros parecem ser reportados, embora haja outros países. Além disso, por algum motivo o valor `\"1\"` surge na lista de estados. Substituem-se as _strings_ vazias acima e esse valor de \"1\" por `NA`."
   ]
  },
  {
   "cell_type": "code",
   "execution_count": 18,
   "metadata": {
    "collapsed": false
   },
   "outputs": [
    {
     "data": {
      "text/plain": [
       " id_instituicao   instituicao           sigla           departamento      \n",
       " Min.   :  1.00   Length:292         Length:292         Length:292        \n",
       " 1st Qu.: 73.75   Class :character   Class :character   Class :character  \n",
       " Median :146.50   Mode  :character   Mode  :character   Mode  :character  \n",
       " Mean   :146.50                                                           \n",
       " 3rd Qu.:219.25                                                           \n",
       " Max.   :292.00                                                           \n",
       "    estado              pais          \n",
       " Length:292         Length:292        \n",
       " Class :character   Class :character  \n",
       " Mode  :character   Mode  :character  \n",
       "                                      \n",
       "                                      \n",
       "                                      "
      ]
     },
     "execution_count": 18,
     "metadata": {},
     "output_type": "execute_result"
    },
    {
     "name": "stdout",
     "output_type": "stream",
     "text": [
      "'data.frame':\t292 obs. of  6 variables:\n",
      " $ id_instituicao: int  74 112 111 14 66 231 87 83 130 121 ...\n",
      " $ instituicao   : chr  \"Pontifícia Universidade Católica do Rio de Janeiro\" \"Universidade Católica de Pelotas\" \"Universidade Católica de Pelotas\" \"Companhia Paulista de Força e Luz Paulista\" ...\n",
      " $ sigla         : chr  \"PUC-Rio\" \"UCPEL\" \"UCPel\" \"CPFL\" ...\n",
      " $ departamento  : chr  \"Depto de Informática\" NA NA NA ...\n",
      " $ estado        : chr  \"RJ\" \"RS\" \"RS\" \"SP\" ...\n",
      " $ pais          : chr  \"Brasil\" \"Brasil\" \"Brasil\" \"Brasil\" ...\n"
     ]
    }
   ],
   "source": [
    "instituicao$departamento[instituicao$departamento == \"\"] = NA\n",
    "instituicao$pais[instituicao$pais == \"\"] = NA\n",
    "instituicao$estado[instituicao$estado == \"\" | instituicao$estado == \"1\"] = NA\n",
    "\n",
    "data.map[[dataset.name]] = instituicao\n",
    "summary(data.map[[dataset.name]])\n",
    "str(data.map[[dataset.name]])"
   ]
  },
  {
   "cell_type": "markdown",
   "metadata": {},
   "source": [
    "### _keyword.csv_ "
   ]
  },
  {
   "cell_type": "code",
   "execution_count": 19,
   "metadata": {
    "collapsed": false
   },
   "outputs": [
    {
     "name": "stdout",
     "output_type": "stream",
     "text": [
      "'data.frame':\t1176 obs. of  3 variables:\n",
      " $ id_artigo: int  4506 4507 4508 4509 4510 4511 4512 4513 4514 4515 ...\n",
      " $ keyword  : chr  \"interface\" \"end-user programming\" \"ergonomia\" \"interação homem-máquina\" ...\n",
      " $ posicao  : int  1 1 1 1 1 1 1 1 1 1 ...\n"
     ]
    },
    {
     "data": {
      "text/plain": [
       "   id_artigo      keyword             posicao     \n",
       " Min.   :4506   Length:1176        Min.   :1.000  \n",
       " 1st Qu.:4630   Class :character   1st Qu.:1.750  \n",
       " Median :4707   Mode  :character   Median :3.000  \n",
       " Mean   :4696                      Mean   :2.676  \n",
       " 3rd Qu.:4777                      3rd Qu.:4.000  \n",
       " Max.   :4854                      Max.   :7.000  "
      ]
     },
     "execution_count": 19,
     "metadata": {},
     "output_type": "execute_result"
    },
    {
     "data": {
      "text/html": [
       "<table>\n",
       "<thead><tr><th></th><th scope=col>id_artigo</th><th scope=col>keyword</th><th scope=col>posicao</th></tr></thead>\n",
       "<tbody>\n",
       "\t<tr><th scope=row>1</th><td>4506</td><td>interface</td><td>1</td></tr>\n",
       "\t<tr><th scope=row>2</th><td>4507</td><td>end-user programming</td><td>1</td></tr>\n",
       "\t<tr><th scope=row>3</th><td>4508</td><td>ergonomia</td><td>1</td></tr>\n",
       "\t<tr><th scope=row>4</th><td>4509</td><td>interação homem-máquina</td><td>1</td></tr>\n",
       "\t<tr><th scope=row>5</th><td>4510</td><td>confiabilidade humana</td><td>1</td></tr>\n",
       "\t<tr><th scope=row>6</th><td>4511</td><td>interação musical - interfaces musicais - ins</td><td>1</td></tr>\n",
       "</tbody>\n",
       "</table>\n"
      ],
      "text/latex": [
       "\\begin{tabular}{r|lll}\n",
       "  & id_artigo & keyword & posicao\\\\\n",
       "\\hline\n",
       "\t1 & 4506 & interface & 1\\\\\n",
       "\t2 & 4507 & end-user programming & 1\\\\\n",
       "\t3 & 4508 & ergonomia & 1\\\\\n",
       "\t4 & 4509 & interação homem-máquina & 1\\\\\n",
       "\t5 & 4510 & confiabilidade humana & 1\\\\\n",
       "\t6 & 4511 & interação musical - interfaces musicais - ins & 1\\\\\n",
       "\\end{tabular}\n"
      ],
      "text/plain": [
       "  id_artigo                                       keyword posicao\n",
       "1      4506                                     interface       1\n",
       "2      4507                          end-user programming       1\n",
       "3      4508                                     ergonomia       1\n",
       "4      4509                       interação homem-máquina       1\n",
       "5      4510                         confiabilidade humana       1\n",
       "6      4511 interação musical - interfaces musicais - ins       1"
      ]
     },
     "execution_count": 19,
     "metadata": {},
     "output_type": "execute_result"
    },
    {
     "data": {
      "text/html": [
       "<table>\n",
       "<thead><tr><th></th><th scope=col>id_artigo</th><th scope=col>keyword</th><th scope=col>posicao</th></tr></thead>\n",
       "<tbody>\n",
       "\t<tr><th scope=row>1171</th><td>4639</td><td>semiotic engineering</td><td>7</td></tr>\n",
       "\t<tr><th scope=row>1172</th><td>4715</td><td>abstraction</td><td>7</td></tr>\n",
       "\t<tr><th scope=row>1173</th><td>4764</td><td>comunicabilidade</td><td>7</td></tr>\n",
       "\t<tr><th scope=row>1174</th><td>4770</td><td>semiotic engineering</td><td>7</td></tr>\n",
       "\t<tr><th scope=row>1175</th><td>4782</td><td>mobile\n",
       "application</td><td>7</td></tr>\n",
       "\t<tr><th scope=row>1176</th><td>4841</td><td>braindraw</td><td>7</td></tr>\n",
       "</tbody>\n",
       "</table>\n"
      ],
      "text/latex": [
       "\\begin{tabular}{r|lll}\n",
       "  & id_artigo & keyword & posicao\\\\\n",
       "\\hline\n",
       "\t1171 & 4639 & semiotic engineering & 7\\\\\n",
       "\t1172 & 4715 & abstraction & 7\\\\\n",
       "\t1173 & 4764 & comunicabilidade & 7\\\\\n",
       "\t1174 & 4770 & semiotic engineering & 7\\\\\n",
       "\t1175 & 4782 & mobile\n",
       "application & 7\\\\\n",
       "\t1176 & 4841 & braindraw & 7\\\\\n",
       "\\end{tabular}\n"
      ],
      "text/plain": [
       "     id_artigo              keyword posicao\n",
       "1171      4639 semiotic engineering       7\n",
       "1172      4715          abstraction       7\n",
       "1173      4764     comunicabilidade       7\n",
       "1174      4770 semiotic engineering       7\n",
       "1175      4782  mobile\\napplication       7\n",
       "1176      4841            braindraw       7"
      ]
     },
     "execution_count": 19,
     "metadata": {},
     "output_type": "execute_result"
    },
    {
     "name": "stdout",
     "output_type": "stream",
     "text": [
      "Análise Exploratória de `keyword`\n",
      "  Número de valores distintos e total: 866/1176\n",
      "  Quantas instâncias tem conteúdo não vazio (não é `string` vazio): 1176 (%100.00)\n",
      "  Amostra de instâncias de `keyword`:\n",
      "    usabilidade\n",
      "     semiotic engineering\n",
      "     residential energy feedback systems\n",
      "     participatory design\n",
      "     emotions\n",
      "\n"
     ]
    }
   ],
   "source": [
    "dataset.name = \"keyword\"\n",
    "str(data.map[[dataset.name]])\n",
    "summary(data.map[[dataset.name]])\n",
    "head(data.map[[dataset.name]])\n",
    "tail(data.map[[dataset.name]])\n",
    "keyword = explore.dataset(dataset.name)"
   ]
  },
  {
   "cell_type": "markdown",
   "metadata": {},
   "source": [
    "Esta tabela faz um mero mapeamento entre as palavras-chave e os artigos definidos em _artigo.csv_ no qual são usadas, através de uma chave estrangeiras para a _id_ dos artigos. Não há dados faltantes e os tipos condizem com o significado dos atributos, então seguimos adiante."
   ]
  },
  {
   "cell_type": "markdown",
   "metadata": {},
   "source": [
    "### _pessoa.csv_ "
   ]
  },
  {
   "cell_type": "code",
   "execution_count": 20,
   "metadata": {
    "collapsed": false
   },
   "outputs": [
    {
     "name": "stdout",
     "output_type": "stream",
     "text": [
      "'data.frame':\t579 obs. of  3 variables:\n",
      " $ id_pessoa: int  1 2 3 4 5 6 7 8 9 10 ...\n",
      " $ nome     : chr  \"Adéle Malta Pontes\" \"Adriana Euflasino\" \"Adriana Holtz Betiol\" \"Adriana Lopes\" ...\n",
      " $ nome_ref : chr  \"Pontes, A. M.\" \"Euflasino, A.\" \"Betiol, A. H.\" \"Lopes, A.\" ...\n"
     ]
    },
    {
     "data": {
      "text/plain": [
       "   id_pessoa         nome             nome_ref        \n",
       " Min.   :  1.0   Length:579         Length:579        \n",
       " 1st Qu.:145.5   Class :character   Class :character  \n",
       " Median :290.0   Mode  :character   Mode  :character  \n",
       " Mean   :290.0                                        \n",
       " 3rd Qu.:434.5                                        \n",
       " Max.   :579.0                                        "
      ]
     },
     "execution_count": 20,
     "metadata": {},
     "output_type": "execute_result"
    },
    {
     "data": {
      "text/html": [
       "<table>\n",
       "<thead><tr><th></th><th scope=col>id_pessoa</th><th scope=col>nome</th><th scope=col>nome_ref</th></tr></thead>\n",
       "<tbody>\n",
       "\t<tr><th scope=row>1</th><td>1</td><td>Adéle Malta Pontes</td><td>Pontes, A. M.</td></tr>\n",
       "\t<tr><th scope=row>2</th><td>2</td><td>Adriana Euflasino</td><td>Euflasino, A.</td></tr>\n",
       "\t<tr><th scope=row>3</th><td>3</td><td>Adriana Holtz Betiol</td><td>Betiol, A. H.</td></tr>\n",
       "\t<tr><th scope=row>4</th><td>4</td><td>Adriana Lopes</td><td>Lopes, A.</td></tr>\n",
       "\t<tr><th scope=row>5</th><td>5</td><td>Adriano Gonella</td><td>Gonella, A.</td></tr>\n",
       "\t<tr><th scope=row>6</th><td>6</td><td>Afonso Inácio Orth</td><td>Orth, A. I.</td></tr>\n",
       "</tbody>\n",
       "</table>\n"
      ],
      "text/latex": [
       "\\begin{tabular}{r|lll}\n",
       "  & id_pessoa & nome & nome_ref\\\\\n",
       "\\hline\n",
       "\t1 & 1 & Adéle Malta Pontes & Pontes, A. M.\\\\\n",
       "\t2 & 2 & Adriana Euflasino & Euflasino, A.\\\\\n",
       "\t3 & 3 & Adriana Holtz Betiol & Betiol, A. H.\\\\\n",
       "\t4 & 4 & Adriana Lopes & Lopes, A.\\\\\n",
       "\t5 & 5 & Adriano Gonella & Gonella, A.\\\\\n",
       "\t6 & 6 & Afonso Inácio Orth & Orth, A. I.\\\\\n",
       "\\end{tabular}\n"
      ],
      "text/plain": [
       "  id_pessoa                 nome      nome_ref\n",
       "1         1   Adéle Malta Pontes Pontes, A. M.\n",
       "2         2    Adriana Euflasino Euflasino, A.\n",
       "3         3 Adriana Holtz Betiol Betiol, A. H.\n",
       "4         4        Adriana Lopes     Lopes, A.\n",
       "5         5      Adriano Gonella   Gonella, A.\n",
       "6         6   Afonso Inácio Orth   Orth, A. I."
      ]
     },
     "execution_count": 20,
     "metadata": {},
     "output_type": "execute_result"
    },
    {
     "data": {
      "text/html": [
       "<table>\n",
       "<thead><tr><th></th><th scope=col>id_pessoa</th><th scope=col>nome</th><th scope=col>nome_ref</th></tr></thead>\n",
       "<tbody>\n",
       "\t<tr><th scope=row>574</th><td>574</td><td>Wander Antunes Gaspar Valente</td><td>Valente, W. A. G.</td></tr>\n",
       "\t<tr><th scope=row>575</th><td>575</td><td>Wellington B. do Nascimento Jr.</td><td>Jr., W. B. d. N.</td></tr>\n",
       "\t<tr><th scope=row>576</th><td>576</td><td>William J. Giraldo</td><td>Giraldo, W. J.</td></tr>\n",
       "\t<tr><th scope=row>577</th><td>577</td><td>Williamson Silva</td><td>Silva, W.</td></tr>\n",
       "\t<tr><th scope=row>578</th><td>578</td><td>Yngve Sundblad</td><td>Sundblad, Y.</td></tr>\n",
       "\t<tr><th scope=row>579</th><td>579</td><td>Yulia Ostróvskaya</td><td>Ostróvskaya, Y.</td></tr>\n",
       "</tbody>\n",
       "</table>\n"
      ],
      "text/latex": [
       "\\begin{tabular}{r|lll}\n",
       "  & id_pessoa & nome & nome_ref\\\\\n",
       "\\hline\n",
       "\t574 & 574 & Wander Antunes Gaspar Valente & Valente, W. A. G.\\\\\n",
       "\t575 & 575 & Wellington B. do Nascimento Jr. & Jr., W. B. d. N.\\\\\n",
       "\t576 & 576 & William J. Giraldo & Giraldo, W. J.\\\\\n",
       "\t577 & 577 & Williamson Silva & Silva, W.\\\\\n",
       "\t578 & 578 & Yngve Sundblad & Sundblad, Y.\\\\\n",
       "\t579 & 579 & Yulia Ostróvskaya & Ostróvskaya, Y.\\\\\n",
       "\\end{tabular}\n"
      ],
      "text/plain": [
       "    id_pessoa                            nome          nome_ref\n",
       "574       574   Wander Antunes Gaspar Valente Valente, W. A. G.\n",
       "575       575 Wellington B. do Nascimento Jr.  Jr., W. B. d. N.\n",
       "576       576              William J. Giraldo    Giraldo, W. J.\n",
       "577       577                Williamson Silva         Silva, W.\n",
       "578       578                  Yngve Sundblad      Sundblad, Y.\n",
       "579       579               Yulia Ostróvskaya   Ostróvskaya, Y."
      ]
     },
     "execution_count": 20,
     "metadata": {},
     "output_type": "execute_result"
    },
    {
     "name": "stdout",
     "output_type": "stream",
     "text": [
      "Análise Exploratória de `nome`\n",
      "  Número de valores distintos e total: 579/579\n",
      "  Quantas instâncias tem conteúdo não vazio (não é `string` vazio): 579 (%100.00)\n",
      "  Amostra de instâncias de `nome`:\n",
      "    David Falcão Barbosa\n",
      "     Rodrigo de Godoy Domingues\n",
      "     Cleyton Slaviero\n",
      "     Guilherme C. Pereira\n",
      "     Miriam Fernandez\n",
      "\n",
      "Análise Exploratória de `nome_ref`\n",
      "  Número de valores distintos e total: 574/579\n",
      "  Quantas instâncias tem conteúdo não vazio (não é `string` vazio): 579 (%100.00)\n",
      "  Amostra de instâncias de `nome_ref`:\n",
      "    Ghirotti, S. E.\n",
      "     Ramalho, P. M. M.\n",
      "     Freire, F. M. P.\n",
      "     Penteado, R. R. M.\n",
      "     Cerqueira, R.\n",
      "\n"
     ]
    }
   ],
   "source": [
    "dataset.name = \"pessoa\"\n",
    "str(data.map[[dataset.name]])\n",
    "summary(data.map[[dataset.name]])\n",
    "head(data.map[[dataset.name]])\n",
    "tail(data.map[[dataset.name]])\n",
    "pessoa = explore.dataset(dataset.name)"
   ]
  },
  {
   "cell_type": "markdown",
   "metadata": {},
   "source": [
    "Esta tabela faz um mero mapeamento entre o identificador, o nome e a referência dos autores citados ou que publicaram os artigos. Não há dados faltantes e os tipos condizem com o significado dos atributos, então seguimos adiante."
   ]
  },
  {
   "cell_type": "markdown",
   "metadata": {},
   "source": [
    "### _referencia.csv_"
   ]
  },
  {
   "cell_type": "code",
   "execution_count": 22,
   "metadata": {
    "collapsed": false,
    "scrolled": false
   },
   "outputs": [
    {
     "name": "stdout",
     "output_type": "stream",
     "text": [
      "'data.frame':\t7350 obs. of  9 variables:\n",
      " $ idpaper       : int  4506 4506 4506 4506 4506 4506 4506 4506 4506 4506 ...\n",
      " $ referencia    : chr  \"Andersen, P. B. (1997). A Theory of Computer Semiotics. Updated ed. of 1990.NewYork: Cambridge UniversityPress.\" \"Card, S. K., Moran, T. P., Newell, A. (1983). The Psycology of Human-Computer Interaction. Hillsdale: Lawrence Erlbaum Associat\"| __truncated__ \"Familant, M.E., Detweiler, M.C. (1993). Iconic reference: evolving perspectives and an organizing framework.International Journ\"| __truncated__ \"Jorna, R.; Van Heusden, B. (1996). Semiotics of user interface. Semiotica. V. 109, n.3/4, p. 237-250.\" ...\n",
      " $ tiporef       : chr  \"L\" \"L\" \"P\" \"P\" ...\n",
      " $ anoref        : int  1997 1983 1993 1996 1990 1988 1986 1986 1983 1986 ...\n",
      " $ siglaref      : chr  \"Cambridge University\" \"Erlbaum\" \"IJMMS\" \"Semiotica\" ...\n",
      " $ idiomaref     : chr  \"EN\" \"EN\" \"EN\" \"EN\" ...\n",
      " $ id_referencias: int  1 2 3 4 5 6 7 8 9 10 ...\n",
      " $ ni            : chr  \"\" \"\" \"\" \"\" ...\n",
      " $ trad.sn       : chr  \"\" \"\" \"\" \"\" ...\n"
     ]
    },
    {
     "data": {
      "text/plain": [
       "    idpaper      referencia          tiporef              anoref    \n",
       " Min.   :4506   Length:7350        Length:7350        Min.   :1916  \n",
       " 1st Qu.:4614   Class :character   Class :character   1st Qu.:1998  \n",
       " Median :4693   Mode  :character   Mode  :character   Median :2004  \n",
       " Mean   :4690                                         Mean   :2002  \n",
       " 3rd Qu.:4770                                         3rd Qu.:2009  \n",
       " Max.   :4854                                         Max.   :2015  \n",
       "                                                      NA's   :192   \n",
       "   siglaref          idiomaref         id_referencias      ni           \n",
       " Length:7350        Length:7350        Min.   :   1   Length:7350       \n",
       " Class :character   Class :character   1st Qu.:1838   Class :character  \n",
       " Mode  :character   Mode  :character   Median :3676   Mode  :character  \n",
       "                                       Mean   :3676                     \n",
       "                                       3rd Qu.:5513                     \n",
       "                                       Max.   :7350                     \n",
       "                                                                        \n",
       "   trad.sn         \n",
       " Length:7350       \n",
       " Class :character  \n",
       " Mode  :character  \n",
       "                   \n",
       "                   \n",
       "                   \n",
       "                   "
      ]
     },
     "execution_count": 22,
     "metadata": {},
     "output_type": "execute_result"
    },
    {
     "data": {
      "text/html": [
       "<table>\n",
       "<thead><tr><th></th><th scope=col>idpaper</th><th scope=col>referencia</th><th scope=col>tiporef</th><th scope=col>anoref</th><th scope=col>siglaref</th><th scope=col>idiomaref</th><th scope=col>id_referencias</th><th scope=col>ni</th><th scope=col>trad.sn</th></tr></thead>\n",
       "<tbody>\n",
       "\t<tr><th scope=row>1</th><td>4506</td><td>Andersen, P. B. (1997). A Theory of Computer Semiotics. Updated ed. of 1990.NewYork: Cambridge UniversityPress.</td><td>L</td><td>1997</td><td>Cambridge University</td><td>EN</td><td>1</td><td></td><td></td></tr>\n",
       "\t<tr><th scope=row>2</th><td>4506</td><td>Card, S. K., Moran, T. P., Newell, A. (1983). The Psycology of Human-Computer Interaction. Hillsdale: Lawrence Erlbaum Associates.</td><td>L</td><td>1983</td><td>Erlbaum</td><td>EN</td><td>2</td><td></td><td></td></tr>\n",
       "\t<tr><th scope=row>3</th><td>4506</td><td>Familant, M.E., Detweiler, M.C. (1993). Iconic reference: evolving perspectives and an organizing framework.International Journal of Man-Machine Studies, V. 39, n. 4, p. 705-728.</td><td>P</td><td>1993</td><td>IJMMS</td><td>EN</td><td>3</td><td></td><td></td></tr>\n",
       "\t<tr><th scope=row>4</th><td>4506</td><td>Jorna, R.; Van Heusden, B. (1996). Semiotics of user interface. Semiotica. V. 109, n.3/4, p. 237-250.</td><td>P</td><td>1996</td><td>Semiotica</td><td>EN</td><td>4</td><td></td><td></td></tr>\n",
       "\t<tr><th scope=row>5</th><td>4506</td><td>Laurel, B. (1990). The Art of Human-Computer Interaction. Reading, MA: Addison-Wesley.</td><td>L</td><td>1990</td><td>ADDISON WESLEY</td><td>EN</td><td>5</td><td>I</td><td>N</td></tr>\n",
       "\t<tr><th scope=row>6</th><td>4506</td><td>Nadin, M. (1988). Interface design: A semiotic paradigm. Semiotica. V. 69, n.3/4, p.269-302.</td><td>P</td><td>1988</td><td>Semiotica</td><td>EN</td><td>6</td><td></td><td></td></tr>\n",
       "</tbody>\n",
       "</table>\n"
      ],
      "text/latex": [
       "\\begin{tabular}{r|lllllllll}\n",
       "  & idpaper & referencia & tiporef & anoref & siglaref & idiomaref & id_referencias & ni & trad.sn\\\\\n",
       "\\hline\n",
       "\t1 & 4506 & Andersen, P. B. (1997). A Theory of Computer Semiotics. Updated ed. of 1990.NewYork: Cambridge UniversityPress. & L & 1997 & Cambridge University & EN & 1 &  & \\\\\n",
       "\t2 & 4506 & Card, S. K., Moran, T. P., Newell, A. (1983). The Psycology of Human-Computer Interaction. Hillsdale: Lawrence Erlbaum Associates. & L & 1983 & Erlbaum & EN & 2 &  & \\\\\n",
       "\t3 & 4506 & Familant, M.E., Detweiler, M.C. (1993). Iconic reference: evolving perspectives and an organizing framework.International Journal of Man-Machine Studies, V. 39, n. 4, p. 705-728. & P & 1993 & IJMMS & EN & 3 &  & \\\\\n",
       "\t4 & 4506 & Jorna, R.; Van Heusden, B. (1996). Semiotics of user interface. Semiotica. V. 109, n.3/4, p. 237-250. & P & 1996 & Semiotica & EN & 4 &  & \\\\\n",
       "\t5 & 4506 & Laurel, B. (1990). The Art of Human-Computer Interaction. Reading, MA: Addison-Wesley. & L & 1990 & ADDISON WESLEY & EN & 5 & I & N\\\\\n",
       "\t6 & 4506 & Nadin, M. (1988). Interface design: A semiotic paradigm. Semiotica. V. 69, n.3/4, p.269-302. & P & 1988 & Semiotica & EN & 6 &  & \\\\\n",
       "\\end{tabular}\n"
      ],
      "text/plain": [
       "  idpaper\n",
       "1    4506\n",
       "2    4506\n",
       "3    4506\n",
       "4    4506\n",
       "5    4506\n",
       "6    4506\n",
       "                                                                                                                                                                          referencia\n",
       "1                                                                    Andersen, P. B. (1997). A Theory of Computer Semiotics. Updated ed. of 1990.NewYork: Cambridge UniversityPress.\n",
       "2                                                 Card, S. K., Moran, T. P., Newell, A. (1983). The Psycology of Human-Computer Interaction. Hillsdale: Lawrence Erlbaum Associates.\n",
       "3 Familant, M.E., Detweiler, M.C. (1993). Iconic reference: evolving perspectives and an organizing framework.International Journal of Man-Machine Studies, V. 39, n. 4, p. 705-728.\n",
       "4                                                                              Jorna, R.; Van Heusden, B. (1996). Semiotics of user interface. Semiotica. V. 109, n.3/4, p. 237-250.\n",
       "5                                                                                             Laurel, B. (1990). The Art of Human-Computer Interaction. Reading, MA: Addison-Wesley.\n",
       "6                                                                                       Nadin, M. (1988). Interface design: A semiotic paradigm. Semiotica. V. 69, n.3/4, p.269-302.\n",
       "  tiporef anoref             siglaref idiomaref id_referencias ni trad.sn\n",
       "1       L   1997 Cambridge University        EN              1           \n",
       "2       L   1983              Erlbaum        EN              2           \n",
       "3       P   1993                IJMMS        EN              3           \n",
       "4       P   1996            Semiotica        EN              4           \n",
       "5       L   1990       ADDISON WESLEY        EN              5  I       N\n",
       "6       P   1988            Semiotica        EN              6           "
      ]
     },
     "execution_count": 22,
     "metadata": {},
     "output_type": "execute_result"
    },
    {
     "data": {
      "text/html": [
       "<table>\n",
       "<thead><tr><th></th><th scope=col>idpaper</th><th scope=col>referencia</th><th scope=col>tiporef</th><th scope=col>anoref</th><th scope=col>siglaref</th><th scope=col>idiomaref</th><th scope=col>id_referencias</th><th scope=col>ni</th><th scope=col>trad.sn</th></tr></thead>\n",
       "<tbody>\n",
       "\t<tr><th scope=row>7345</th><td>4854</td><td>Oliveira, J. L. Recommendation System for Promotion of Homophile Networks Based in Cultural Values: observing the impact of homophile on reciprocity relations supported by technology. Master Degree Dissertation. Federal University of São Carlos/Brazil. (2013). 76 p. In Portuguese.</td><td>D</td><td>2013</td><td>Mestrado</td><td>EN</td><td>7345</td><td></td><td></td></tr>\n",
       "\t<tr><th scope=row>7346</th><td>4854</td><td>Picollo, R. S. G; Baranauskas, M. C. C. Making Sense of the Affordance Conception in the 3rd HCI Paradigm. In: Proceedings of IADIS International Conference WWW/Internet, (IADIS Press). (2010). p. 183-191.</td><td>C</td><td>2010</td><td>IADIS</td><td>EN</td><td>7346</td><td></td><td></td></tr>\n",
       "\t<tr><th scope=row>7347</th><td>4854</td><td>Preece, J.; Rogers, Y.; Sharp, H. Interaction Design. 1st edition. (2002).</td><td>L</td><td>2002</td><td>Wiley</td><td>EN</td><td>7347</td><td></td><td></td></tr>\n",
       "\t<tr><th scope=row>7348</th><td>4854</td><td>Rogers, Y.; Sharp, H.; Preece, J. Interaction Design: beyond human-computer interaction. 3rd edition, John Wiley & Sons Ltd. (2011). 585 p.</td><td>L</td><td>2011</td><td>John Wiley & Sons</td><td>EN</td><td>7348</td><td></td><td></td></tr>\n",
       "\t<tr><th scope=row>7349</th><td>4854</td><td>Saffer, D. Design for Interaction: creating smart application and clever device. 2nd edition. New Riders Press, 2010. 223 p.</td><td>L</td><td>2010</td><td>New Riders Press</td><td>EN</td><td>7349</td><td></td><td></td></tr>\n",
       "\t<tr><th scope=row>7350</th><td>4854</td><td>Silva M. A. R.; Anacleto, J. C. Adding Semantic Relations among Design Patterns. In: Proceedings of the 15th International Conference on Enterprise Information Systems. Portugal: SCITEPRESS Science and Technology Publications. (2014). v. 1. p. 1-11.</td><td>C</td><td>2014</td><td>ICEIS</td><td>EN</td><td>7350</td><td></td><td></td></tr>\n",
       "</tbody>\n",
       "</table>\n"
      ],
      "text/latex": [
       "\\begin{tabular}{r|lllllllll}\n",
       "  & idpaper & referencia & tiporef & anoref & siglaref & idiomaref & id_referencias & ni & trad.sn\\\\\n",
       "\\hline\n",
       "\t7345 & 4854 & Oliveira, J. L. Recommendation System for Promotion of Homophile Networks Based in Cultural Values: observing the impact of homophile on reciprocity relations supported by technology. Master Degree Dissertation. Federal University of São Carlos/Brazil. (2013). 76 p. In Portuguese. & D & 2013 & Mestrado & EN & 7345 &  & \\\\\n",
       "\t7346 & 4854 & Picollo, R. S. G; Baranauskas, M. C. C. Making Sense of the Affordance Conception in the 3rd HCI Paradigm. In: Proceedings of IADIS International Conference WWW/Internet, (IADIS Press). (2010). p. 183-191. & C & 2010 & IADIS & EN & 7346 &  & \\\\\n",
       "\t7347 & 4854 & Preece, J.; Rogers, Y.; Sharp, H. Interaction Design. 1st edition. (2002). & L & 2002 & Wiley & EN & 7347 &  & \\\\\n",
       "\t7348 & 4854 & Rogers, Y.; Sharp, H.; Preece, J. Interaction Design: beyond human-computer interaction. 3rd edition, John Wiley & Sons Ltd. (2011). 585 p. & L & 2011 & John Wiley & Sons & EN & 7348 &  & \\\\\n",
       "\t7349 & 4854 & Saffer, D. Design for Interaction: creating smart application and clever device. 2nd edition. New Riders Press, 2010. 223 p. & L & 2010 & New Riders Press & EN & 7349 &  & \\\\\n",
       "\t7350 & 4854 & Silva M. A. R.; Anacleto, J. C. Adding Semantic Relations among Design Patterns. In: Proceedings of the 15th International Conference on Enterprise Information Systems. Portugal: SCITEPRESS Science and Technology Publications. (2014). v. 1. p. 1-11. & C & 2014 & ICEIS & EN & 7350 &  & \\\\\n",
       "\\end{tabular}\n"
      ],
      "text/plain": [
       "     idpaper\n",
       "7345    4854\n",
       "7346    4854\n",
       "7347    4854\n",
       "7348    4854\n",
       "7349    4854\n",
       "7350    4854\n",
       "                                                                                                                                                                                                                                                                                    referencia\n",
       "7345 Oliveira, J. L. Recommendation System for Promotion of Homophile Networks Based in Cultural Values: observing the impact of homophile on reciprocity relations supported by technology. Master Degree Dissertation. Federal University of São Carlos/Brazil. (2013). 76 p. In Portuguese.\n",
       "7346                                                                             Picollo, R. S. G; Baranauskas, M. C. C. Making Sense of the Affordance Conception in the 3rd HCI Paradigm. In: Proceedings of IADIS International Conference WWW/Internet, (IADIS Press). (2010). p. 183-191.\n",
       "7347                                                                                                                                                                                                                Preece, J.; Rogers, Y.; Sharp, H. Interaction Design. 1st edition. (2002).\n",
       "7348                                                                                                                                               Rogers, Y.; Sharp, H.; Preece, J. Interaction Design: beyond human-computer interaction. 3rd edition, John Wiley & Sons Ltd. (2011). 585 p.\n",
       "7349                                                                                                                                                              Saffer, D. Design for Interaction: creating smart application and clever device. 2nd edition. New Riders Press, 2010. 223 p.\n",
       "7350                                 Silva M. A. R.; Anacleto, J. C. Adding Semantic Relations among Design Patterns. In: Proceedings of the 15th International Conference on Enterprise Information Systems. Portugal: SCITEPRESS Science and Technology Publications. (2014). v. 1. p. 1-11.\n",
       "     tiporef anoref          siglaref idiomaref id_referencias ni trad.sn\n",
       "7345       D   2013          Mestrado        EN           7345           \n",
       "7346       C   2010             IADIS        EN           7346           \n",
       "7347       L   2002             Wiley        EN           7347           \n",
       "7348       L   2011 John Wiley & Sons        EN           7348           \n",
       "7349       L   2010  New Riders Press        EN           7349           \n",
       "7350       C   2014             ICEIS        EN           7350           "
      ]
     },
     "execution_count": 22,
     "metadata": {},
     "output_type": "execute_result"
    },
    {
     "name": "stdout",
     "output_type": "stream",
     "text": [
      "Análise Exploratória de `referencia`\n",
      "  Número de valores distintos e total: 7276/7350\n",
      "  Quantas instâncias tem conteúdo não vazio (não é `string` vazio): 7350 (%100.00)\n",
      "  Amostra de instâncias de `referencia`:\n",
      "    SCAPIN, Dominique L. and BASTIAN, J. M. Christian. Ergonomic criteria for evaluating the ergonomic quality of interactive systems. In: Behaviour & information technology. V.16, n. 4/5, july-October, 1997, p. 220-231.\n",
      "     Chagas, D.A., Furtado, E.S., Nobre Jr., J.: Análise de Alternativas de Design de Mapas para TV Digital Brasileira Baseada em Multicritérios. Simpósio Bras. sobre Fatores Humanos em Sist. Comput. (2012).\n",
      "     Leite, J.. Projeto Comunet, 2002, Relatório Técnico, UFRN, 2001\n",
      "     Oliveira, J.L. de, Projeto e Implementação de Interfaces para Sistemas de Aplicações Geográficas, tese de doutorado, IC-UNICAMP (1997).\n",
      "     Del, G. E. et Nielsen, J. International User Interfaces. New York : John Wiley, 1996, 276 p.\n",
      "\n",
      "Análise Exploratória de `tiporef`\n",
      "  Número de valores distintos e total: 8/7350\n",
      "  Quantas instâncias tem conteúdo não vazio (não é `string` vazio): 7340 (%99.86)\n",
      "  Amostra de instâncias de `tiporef`:\n",
      "    C\n",
      "     C\n",
      "     T\n",
      "     O\n",
      "     P\n",
      "\n",
      "Análise Exploratória de `siglaref`\n",
      "  Número de valores distintos e total: 2050/7350\n",
      "  Quantas instâncias tem conteúdo não vazio (não é `string` vazio): 6825 (%92.86)\n",
      "  Amostra de instâncias de `siglaref`:\n",
      "    IHC\n",
      "     Addison-Wesley\n",
      "     IUI\n",
      "     IJeLS\n",
      "     Cambridge University\n",
      "\n",
      "Análise Exploratória de `idiomaref`\n",
      "  Número de valores distintos e total: 8/7350\n",
      "  Quantas instâncias tem conteúdo não vazio (não é `string` vazio): 7266 (%98.86)\n",
      "  Amostra de instâncias de `idiomaref`:\n",
      "    EN\n",
      "     EN\n",
      "     EN\n",
      "     EN\n",
      "     EN\n",
      "\n",
      "Análise Exploratória de `ni`\n",
      "  Número de valores distintos e total: 4/7350\n",
      "  Quantas instâncias tem conteúdo não vazio (não é `string` vazio): 80 (%1.09)\n",
      "  Amostra de instâncias de `ni`:\n",
      "    I\n",
      "     N\n",
      "     I\n",
      "     N\n",
      "     I\n",
      "\n",
      "Análise Exploratória de `trad.sn`\n",
      "  Número de valores distintos e total: 3/7350\n",
      "  Quantas instâncias tem conteúdo não vazio (não é `string` vazio): 94 (%1.28)\n",
      "  Amostra de instâncias de `trad.sn`:\n",
      "    N\n",
      "     N\n",
      "     N\n",
      "     N\n",
      "     N\n",
      "\n"
     ]
    }
   ],
   "source": [
    "dataset.name = \"referencia\"\n",
    "str(data.map[[dataset.name]])\n",
    "summary(data.map[[dataset.name]])\n",
    "head(data.map[[dataset.name]])\n",
    "tail(data.map[[dataset.name]])\n",
    "referencia = explore.dataset(dataset.name)"
   ]
  },
  {
   "cell_type": "markdown",
   "metadata": {},
   "source": [
    "Esta base de dados faz um cruzamento entre os artigos descritos em _artigo.csv_ e as referências por eles feitas, descrevendo em maiores detalhes tais referências.\n",
    "\n",
    "Há poucos dados faltantes para as principais variáveis, sendo `anoref` o caso mais nítido; são, porém, menos de 200 dados faltantes para mais de 7000 instâncias. Contudo, assim como feito em _artigo.csv_ para o atributo `idioma`, é válido alterar o tipo de `tiporef` e `idiomaref` de _character_ para _factor_, já que tais atributos definem um conjunto discreto e limitado de classes. Ainda é válido registrar os possíveis signficados dos valores distintos de `tiporef`, com base nas informações da base de dados:\n",
    "- `L`: _Books_\n",
    "- `R`: _Tech Report_\n",
    "- `P`: _Journals_\n",
    "- `C`: _Conference_\n",
    "- `O`: _Other_\n",
    "- `T`: _Thesis_\n",
    "- dentre outras...\n",
    "\n",
    "Outra pequena correção se faz em `idpaper`, que denota o identificador de um artigo e não segue o padrão utilizado nos demais bancos, nos quais tal atribuo é nomeado `id_artigo`."
   ]
  },
  {
   "cell_type": "code",
   "execution_count": 25,
   "metadata": {
    "collapsed": false
   },
   "outputs": [
    {
     "data": {
      "text/plain": [
       "   id_artigo     referencia           tiporef         anoref    \n",
       " Min.   :4506   Length:7350        C      :2342   Min.   :1916  \n",
       " 1st Qu.:4614   Class :character   L      :1874   1st Qu.:1998  \n",
       " Median :4693   Mode  :character   P      :1431   Median :2004  \n",
       " Mean   :4690                      O      :1204   Mean   :2002  \n",
       " 3rd Qu.:4770                      D      : 208   3rd Qu.:2009  \n",
       " Max.   :4854                      R      : 164   Max.   :2015  \n",
       "                                   (Other): 127   NA's   :192   \n",
       "   siglaref           idiomaref    id_referencias      ni           \n",
       " Length:7350        EN     :5694   Min.   :   1   Length:7350       \n",
       " Class :character   PT     :1491   1st Qu.:1838   Class :character  \n",
       " Mode  :character          :  84   Median :3676   Mode  :character  \n",
       "                    FR     :  48   Mean   :3676                     \n",
       "                    ES     :  26   3rd Qu.:5513                     \n",
       "                    IT     :   5   Max.   :7350                     \n",
       "                    (Other):   2                                    \n",
       "   trad.sn         \n",
       " Length:7350       \n",
       " Class :character  \n",
       " Mode  :character  \n",
       "                   \n",
       "                   \n",
       "                   \n",
       "                   "
      ]
     },
     "execution_count": 25,
     "metadata": {},
     "output_type": "execute_result"
    }
   ],
   "source": [
    "referencia$tiporef = as.factor(referencia$tiporef)\n",
    "referencia$idiomaref = as.factor(referencia$idiomaref)\n",
    "data.map[[dataset.name]] = referencia\n",
    "names(data.map[[dataset.name]])[1] = \"id_artigo\"\n",
    "\n",
    "summary(data.map[[dataset.name]])"
   ]
  },
  {
   "cell_type": "markdown",
   "metadata": {},
   "source": [
    "### Conclusão\n",
    "\n",
    "Tendo feito os pequenos ajustes acima na base, pode-se seguir para as análises da mesma.\n",
    "\n",
    "## Análises\n",
    "\n",
    "### 1 Quantos artigos foram publicados em cada edição (ano) do evento?\n",
    "\n",
    "É interessante observar que o movimento de publicação oscilou bastante, tendo em 2004 retornado aos patamares de 1998. Recentemente, contudo, parece ter ocorrido uma explosão no meio: pelo menos relativa aos dados do qual dispomos, atinge-se um recorde histórico em 2015, praticamente um dobro da média histórica."
   ]
  },
  {
   "cell_type": "code",
   "execution_count": 40,
   "metadata": {
    "collapsed": false
   },
   "outputs": [
    {
     "name": "stdout",
     "output_type": "stream",
     "text": [
      "\n",
      "1998 1999 2000 2001 2002 2004 2006 2008 2010 2011 2012 2013 2014 2015 \n",
      "  15   13   16   22   29   15   20   25   19   32   30   25   34   45 \n",
      "Média de publicações: 24.29\n"
     ]
    },
    {
     "data": {
      "image/png": "[encoded data removed]",
      "text/plain": [
       "plot without title"
      ]
     },
     "metadata": {
      "image/svg+xml": {
       "isolated": true
      }
     },
     "output_type": "display_data"
    }
   ],
   "source": [
    "published.per.year = table(data.map[[\"artigo\"]]$ano)\n",
    "print(published.per.year)\n",
    "avg.published = mean(published.per.year)\n",
    "printf(\"Média de publicações: %.2f\", avg.published)\n",
    "plot(published.per.year, xlab = \"Ano\", ylab = \"Frequência Absoluta\")\n",
    "abline(h = avg.published, col = \"purple\")"
   ]
  },
  {
   "cell_type": "markdown",
   "metadata": {},
   "source": [
    "### 2   Quantos autores publicaram em cada edição do evento?"
   ]
  },
  {
   "cell_type": "code",
   "execution_count": 57,
   "metadata": {
    "collapsed": false
   },
   "outputs": [
    {
     "name": "stdout",
     "output_type": "stream",
     "text": [
      "\n",
      "1998 1999 2000 2001 2002 2004 2006 2008 2010 2011 2012 2013 2014 2015 \n",
      "  38   27   33   54   67   42   54   64   40   89   68   70  103  122 \n",
      "\n",
      "    1998     1999     2000     2001     2002     2004     2006     2008 \n",
      "2.533333 2.076923 2.062500 2.454545 2.310345 2.800000 2.700000 2.560000 \n",
      "    2010     2011     2012     2013     2014     2015 \n",
      "2.105263 2.781250 2.266667 2.800000 3.029412 2.711111 \n"
     ]
    },
    {
     "data": {
      "image/png": "[encoded data removed]",
      "text/plain": [
       "plot without title"
      ]
     },
     "metadata": {
      "image/svg+xml": {
       "isolated": true
      }
     },
     "output_type": "display_data"
    }
   ],
   "source": [
    "# Obtém os `datasets` de `artigo` e `autor`\n",
    "artigo = data.map[[\"artigo\"]]\n",
    "autor = data.map[[\"autor\"]]\n",
    "\n",
    "# Faz o cruzamento de autores e artigos e remove duplicatas (i.e. autor que publicou mais de uma vez em um mesmo ano)\n",
    "autor.by.artigo = merge(autor, artigo, by = \"id_artigo\")\n",
    "autor.by.artigo = unique(data.frame(id_autor = autor.by.artigo$id_autor, ano = autor.by.artigo$ano))\n",
    "\n",
    "# Exibe os resultados\n",
    "qtd.autor.por.evento = table(autor.by.artigo$ano)\n",
    "print(qtd.autor.por.evento)\n",
    "plot(qtd.autor.por.evento)"
   ]
  },
  {
   "cell_type": "markdown",
   "metadata": {},
   "source": [
    "#### 2.1 Qual a relação entre artigos e autores por evento?\n",
    "\n",
    "Dado que temos as informações de quantos autores publicaram e quantos artigos foram publicados por evento, pode-se calcular a relação entre estas duas distribuições. Observa-se abaixo que esta relação permaneceu praticamente constante ao longo dos anos na faixa de 2.5, com pequena variação em torno dela."
   ]
  },
  {
   "cell_type": "code",
   "execution_count": 61,
   "metadata": {
    "collapsed": false
   },
   "outputs": [
    {
     "name": "stdout",
     "output_type": "stream",
     "text": [
      "\n",
      "    1998     1999     2000     2001     2002     2004     2006     2008 \n",
      "2.533333 2.076923 2.062500 2.454545 2.310345 2.800000 2.700000 2.560000 \n",
      "    2010     2011     2012     2013     2014     2015 \n",
      "2.105263 2.781250 2.266667 2.800000 3.029412 2.711111 \n"
     ]
    },
    {
     "data": {
      "image/png": "[encoded data removed]",
      "text/plain": [
       "plot without title"
      ]
     },
     "metadata": {
      "image/svg+xml": {
       "isolated": true
      }
     },
     "output_type": "display_data"
    }
   ],
   "source": [
    "rel.autor.publicacoes = qtd.autor.por.evento/published.per.year\n",
    "print(rel.autor.publicacoes)\n",
    "plot(rel.autor.publicacoes)\n",
    "abline(h = mean(rel.autor.publicacoes), col='purple')"
   ]
  },
  {
   "cell_type": "markdown",
   "metadata": {},
   "source": [
    "### 3 Como o número de autores por artigo estão distribuídos a cada edição?"
   ]
  },
  {
   "cell_type": "code",
   "execution_count": null,
   "metadata": {
    "collapsed": true
   },
   "outputs": [],
   "source": []
  },
  {
   "cell_type": "markdown",
   "metadata": {},
   "source": [
    "### 4 Como a proporção entre referências em português e em inglês tem variado ao longo dos anos?"
   ]
  },
  {
   "cell_type": "code",
   "execution_count": null,
   "metadata": {
    "collapsed": true
   },
   "outputs": [],
   "source": []
  },
  {
   "cell_type": "markdown",
   "metadata": {},
   "source": [
    "### 5 Quais autores mais colaboram (publicam artigos em coautoria)?"
   ]
  },
  {
   "cell_type": "code",
   "execution_count": null,
   "metadata": {
    "collapsed": true
   },
   "outputs": [],
   "source": []
  },
  {
   "cell_type": "markdown",
   "metadata": {},
   "source": [
    "### 6 Quais autores mais citam outros autores?"
   ]
  },
  {
   "cell_type": "code",
   "execution_count": null,
   "metadata": {
    "collapsed": true
   },
   "outputs": [],
   "source": []
  },
  {
   "cell_type": "markdown",
   "metadata": {},
   "source": [
    "### 7 Quais autores têm maior proporção autocitação/citação?"
   ]
  },
  {
   "cell_type": "code",
   "execution_count": null,
   "metadata": {
    "collapsed": true
   },
   "outputs": [],
   "source": []
  },
  {
   "cell_type": "markdown",
   "metadata": {},
   "source": [
    "### 8 Como são distribuídos os números de referências citados por cada artigo? Variam muito de edição para edição?"
   ]
  },
  {
   "cell_type": "code",
   "execution_count": null,
   "metadata": {
    "collapsed": true
   },
   "outputs": [],
   "source": []
  },
  {
   "cell_type": "markdown",
   "metadata": {},
   "source": [
    "### 9 Quais conferências são mais citadas pelos artigos publicados no IHC (tipo de referência = C)? E quais periódicos (tipo de referência = J)?"
   ]
  },
  {
   "cell_type": "code",
   "execution_count": null,
   "metadata": {
    "collapsed": true
   },
   "outputs": [],
   "source": []
  }
 ],
 "metadata": {
  "kernelspec": {
   "display_name": "R",
   "language": "R",
   "name": "ir"
  },
  "language_info": {
   "codemirror_mode": "r",
   "file_extension": ".r",
   "mimetype": "text/x-r-source",
   "name": "R",
   "pygments_lexer": "r",
   "version": "3.2.2"
  }
 },
 "nbformat": 4,
 "nbformat_minor": 0
}
