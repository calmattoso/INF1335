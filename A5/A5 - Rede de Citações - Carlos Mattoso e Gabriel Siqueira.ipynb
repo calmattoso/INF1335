{
 "cells": [
  {
   "cell_type": "markdown",
   "metadata": {},
   "source": [
    "**Rio de Janeiro, 27 de Junho de 2016**\n",
    "\n",
    "Grupo: **Carlos Mattoso** (🎂) _[ **1210553** ]_ e **Gabriel Siqueira** _[ **1210689** ]_\n",
    "\n",
    "Disciplina: **INF1335 - Introdução a Data Science com R e Python**\n",
    "\n",
    "# A5 - Rede de Citações\n",
    "\n",
    "## _Setup_ Básico"
   ]
  },
  {
   "cell_type": "code",
   "execution_count": 118,
   "metadata": {
    "collapsed": false
   },
   "outputs": [],
   "source": [
    "options(repr.plot.width = 10)\n",
    "options(repr.plot.height = 5)\n",
    "\n",
    "load.lib <- function(lib.name, rep=\"https://cloud.r-project.org/\") {\n",
    "    if (!require(lib.name, character.only=T))\n",
    "        install.packages(lib.name, repos=rep)\n",
    "    library(lib.name, character.only=T)\n",
    "}\n",
    "load.lib(\"knitr\")\n",
    "load.lib(\"ggplot2\")\n",
    "\n",
    "printf <- function(...) invisible(cat(paste(sprintf(...), \"\\n\", sep=\"\"))) # source: http://stackoverflow.com/a/13023329\n",
    "# Usage example: print(\"%s %d\", Number, 5)\n",
    "\n",
    "dir.create(\"data\", showWarnings = FALSE)\n",
    "\n",
    "# Baixa os dados da pasta HCI do github para uma pasta local `data`\n",
    "github.base.url = \"https://raw.githubusercontent.com/calmattoso/INF1335/master/A5/ihc/\" \n",
    "file.names = c(\"artigo\", \"autor\", \"instituicao\", \"keyword\", \"pessoa\", \"referencia\")\n",
    "for (file.name in file.names) {\n",
    "    file.name.extension = paste(file.name, \".csv\", sep=\"\")\n",
    "    file.path = paste(\"data/\", file.name.extension, sep=\"\")\n",
    "    if (!file.exists(file.path))    \n",
    "        download.file(paste(github.base.url, file.name.extension, sep=\"\"), destfile=file.path, method=\"curl\")\n",
    "}\n",
    " \n",
    "# Show user message indicating that different results might be observed if R version is less than 3.2.2\n",
    "r.version = R.Version()\n",
    "if (r.version$major < \"3\") {\n",
    "    print(\"This notebook was develop under R major version 3. If your machine runs a version below 3, abnormal behavior should be expected.\")\n",
    "} else if (paste(r.version$major, r.version$minor, sep=\"\") < \"3.2.2\") {\n",
    "    print(\"This notebook was developed under R version 3.2.2.  If your machine runs a version below this, small differences could occur.\")\n",
    "}"
   ]
  },
  {
   "cell_type": "markdown",
   "metadata": {},
   "source": [
    "## Leitura Inicial dos Dados"
   ]
  },
  {
   "cell_type": "code",
   "execution_count": 114,
   "metadata": {
    "collapsed": false
   },
   "outputs": [
    {
     "data": {
      "text/plain": [
       "            Length Class      Mode\n",
       "artigo      8      data.frame list\n",
       "autor       7      data.frame list\n",
       "instituicao 6      data.frame list\n",
       "keyword     3      data.frame list\n",
       "pessoa      3      data.frame list\n",
       "referencia  9      data.frame list"
      ]
     },
     "execution_count": 114,
     "metadata": {},
     "output_type": "execute_result"
    },
    {
     "name": "stdout",
     "output_type": "stream",
     "text": [
      "[1] \"number 5\"\n"
     ]
    }
   ],
   "source": [
    "data.map = list()\n",
    "for (file.name in file.names) {\n",
    "    file.name.extension = paste(file.name, \".csv\", sep=\"\")\n",
    "    file.path = paste(\"data/\", file.name.extension, sep=\"\")\n",
    "    \n",
    "    # Read strings as strings due to the nature of the files. This can be fixed on a case by case basis later\n",
    "    if (file.exists(file.path))    \n",
    "        data.map[[file.name]] = read.csv(file.path, fileEncoding=\"UTF-8\", stringsAsFactor=F)\n",
    "}\n",
    "summary(data.map)"
   ]
  },
  {
   "cell_type": "markdown",
   "metadata": {},
   "source": [
    "## Examinação dos Dados\n",
    "\n",
    "### _artigo.csv_\n",
    "\n",
    "Utilizemos as funções _str_ e _summary_ para entender a forma dos dados lidos e se seus tipos são apropriados. Além disso, exibem-se algumas estatísticas sobre atributos textuais, a fim de determinar o melhor tipo para representá-los e detecção de valores faltantes (_missing values_)."
   ]
  },
  {
   "cell_type": "code",
   "execution_count": 144,
   "metadata": {
    "collapsed": false,
    "scrolled": false
   },
   "outputs": [
    {
     "name": "stdout",
     "output_type": "stream",
     "text": [
      "'data.frame':\t340 obs. of  8 variables:\n",
      " $ id_artigo    : int  4506 4507 4508 4509 4510 4511 4512 4513 4514 4515 ...\n",
      " $ ano          : int  1998 1998 1998 1998 1998 1998 1998 1998 1998 1998 ...\n",
      " $ titulo       : chr  \"Uma Abordagem Semiótica à Análise de Interfaces: um estudo de caso\" \"Knowledge and Communication Perspectives in Extensible Applications\" \"Uma Abordagem Ergonômica para o Desenvolvimento de Sistemas Interativos\" \"Estudo de Interação para um Sistema de Ensino à Distância Baseado em Interfaces de Realidade Virtual\" ...\n",
      " $ idioma       : chr  \"PT-BR\" \"EN\" \"PT-BR\" \"PT-BR\" ...\n",
      " $ tema         : chr  \"\" \"\" \"\" \"\" ...\n",
      " $ acm_chave    : chr  \"\" \"\" \"\" \"\" ...\n",
      " $ acm_categoria: chr  \"\" \"\" \"\" \"\" ...\n",
      " $ acm_termos   : chr  \"\" \"\" \"\" \"\" ...\n"
     ]
    },
    {
     "data": {
      "text/plain": [
       "   id_artigo         ano          titulo             idioma         \n",
       " Min.   :4506   Min.   :1998   Length:340         Length:340        \n",
       " 1st Qu.:4591   1st Qu.:2002   Class :character   Class :character  \n",
       " Median :4676   Median :2010   Mode  :character   Mode  :character  \n",
       " Mean   :4677   Mean   :2008                                        \n",
       " 3rd Qu.:4760   3rd Qu.:2013                                        \n",
       " Max.   :4854   Max.   :2015                                        \n",
       "     tema            acm_chave         acm_categoria       acm_termos       \n",
       " Length:340         Length:340         Length:340         Length:340        \n",
       " Class :character   Class :character   Class :character   Class :character  \n",
       " Mode  :character   Mode  :character   Mode  :character   Mode  :character  \n",
       "                                                                            \n",
       "                                                                            \n",
       "                                                                            "
      ]
     },
     "execution_count": 144,
     "metadata": {},
     "output_type": "execute_result"
    },
    {
     "data": {
      "text/html": [
       "<table>\n",
       "<thead><tr><th></th><th scope=col>id_artigo</th><th scope=col>ano</th><th scope=col>titulo</th><th scope=col>idioma</th><th scope=col>tema</th><th scope=col>acm_chave</th><th scope=col>acm_categoria</th><th scope=col>acm_termos</th></tr></thead>\n",
       "<tbody>\n",
       "\t<tr><th scope=row>1</th><td>4506</td><td>1998</td><td>Uma Abordagem Semiótica à Análise de Interfaces: um estudo de caso</td><td>PT-BR</td><td></td><td></td><td></td><td></td></tr>\n",
       "\t<tr><th scope=row>2</th><td>4507</td><td>1998</td><td>Knowledge and Communication Perspectives in Extensible Applications</td><td>EN</td><td></td><td></td><td></td><td></td></tr>\n",
       "\t<tr><th scope=row>3</th><td>4508</td><td>1998</td><td>Uma Abordagem Ergonômica para o Desenvolvimento de Sistemas Interativos</td><td>PT-BR</td><td></td><td></td><td></td><td></td></tr>\n",
       "\t<tr><th scope=row>4</th><td>4509</td><td>1998</td><td>Estudo de Interação para um Sistema de Ensino à Distância Baseado em Interfaces de Realidade Virtual</td><td>PT-BR</td><td></td><td></td><td></td><td></td></tr>\n",
       "\t<tr><th scope=row>5</th><td>4510</td><td>1998</td><td>APIS: Método para Desenvolvimento de Interfaces Homem-Computador em Sistemas de Segurança Visando a Confiabilidade Humana</td><td>PT-BR</td><td></td><td></td><td></td><td></td></tr>\n",
       "\t<tr><th scope=row>6</th><td>4511</td><td>1998</td><td>Interação, Interfaces e Instrumentos em Música Eletroacústica</td><td>PT-BR</td><td></td><td></td><td></td><td></td></tr>\n",
       "</tbody>\n",
       "</table>\n"
      ],
      "text/latex": [
       "\\begin{tabular}{r|llllllll}\n",
       "  & id_artigo & ano & titulo & idioma & tema & acm_chave & acm_categoria & acm_termos\\\\\n",
       "\\hline\n",
       "\t1 & 4506 & 1998 & Uma Abordagem Semiótica à Análise de Interfaces: um estudo de caso & PT-BR &  &  &  & \\\\\n",
       "\t2 & 4507 & 1998 & Knowledge and Communication Perspectives in Extensible Applications & EN &  &  &  & \\\\\n",
       "\t3 & 4508 & 1998 & Uma Abordagem Ergonômica para o Desenvolvimento de Sistemas Interativos & PT-BR &  &  &  & \\\\\n",
       "\t4 & 4509 & 1998 & Estudo de Interação para um Sistema de Ensino à Distância Baseado em Interfaces de Realidade Virtual & PT-BR &  &  &  & \\\\\n",
       "\t5 & 4510 & 1998 & APIS: Método para Desenvolvimento de Interfaces Homem-Computador em Sistemas de Segurança Visando a Confiabilidade Humana & PT-BR &  &  &  & \\\\\n",
       "\t6 & 4511 & 1998 & Interação, Interfaces e Instrumentos em Música Eletroacústica & PT-BR &  &  &  & \\\\\n",
       "\\end{tabular}\n"
      ],
      "text/plain": [
       "  id_artigo  ano\n",
       "1      4506 1998\n",
       "2      4507 1998\n",
       "3      4508 1998\n",
       "4      4509 1998\n",
       "5      4510 1998\n",
       "6      4511 1998\n",
       "                                                                                                                     titulo\n",
       "1                                                        Uma Abordagem Semiótica à Análise de Interfaces: um estudo de caso\n",
       "2                                                       Knowledge and Communication Perspectives in Extensible Applications\n",
       "3                                                   Uma Abordagem Ergonômica para o Desenvolvimento de Sistemas Interativos\n",
       "4                      Estudo de Interação para um Sistema de Ensino à Distância Baseado em Interfaces de Realidade Virtual\n",
       "5 APIS: Método para Desenvolvimento de Interfaces Homem-Computador em Sistemas de Segurança Visando a Confiabilidade Humana\n",
       "6                                                             Interação, Interfaces e Instrumentos em Música Eletroacústica\n",
       "  idioma tema acm_chave acm_categoria acm_termos\n",
       "1  PT-BR                                        \n",
       "2     EN                                        \n",
       "3  PT-BR                                        \n",
       "4  PT-BR                                        \n",
       "5  PT-BR                                        \n",
       "6  PT-BR                                        "
      ]
     },
     "execution_count": 144,
     "metadata": {},
     "output_type": "execute_result"
    },
    {
     "data": {
      "text/html": [
       "<table>\n",
       "<thead><tr><th></th><th scope=col>id_artigo</th><th scope=col>ano</th><th scope=col>titulo</th><th scope=col>idioma</th><th scope=col>tema</th><th scope=col>acm_chave</th><th scope=col>acm_categoria</th><th scope=col>acm_termos</th></tr></thead>\n",
       "<tbody>\n",
       "\t<tr><th scope=row>335</th><td>4849</td><td>2015</td><td>O Pensamento Computacional Através de Jogos Infantis</td><td>PT-BR</td><td>education and hci</td><td>H.5.2. User Interfaces.</td><td></td><td></td></tr>\n",
       "\t<tr><th scope=row>336</th><td>4850</td><td>2015</td><td>Investigating Treemap Visualization in Inverted Scale</td><td>EN</td><td>information visualization</td><td>H.5.2. User Interfaces: Evaluation/Methodology</td><td></td><td></td></tr>\n",
       "\t<tr><th scope=row>337</th><td>4851</td><td>2015</td><td>Visualization Mechanisms for Crowdsourcing Information in Emergency Coordination</td><td>EN</td><td>information visualization</td><td>H.4.2 Information system applications: Types of Systems— decision support</td><td></td><td></td></tr>\n",
       "\t<tr><th scope=row>338</th><td>4852</td><td>2015</td><td>Eye Jam: A Gaze-Controlled Musical Interface</td><td>EN</td><td>interaction with new devices</td><td>H.5.2 User Interfaces: Interaction styles, theory and methods, I.3.6 Methodology and Techniques: Int</td><td></td><td></td></tr>\n",
       "\t<tr><th scope=row>339</th><td>4853</td><td>2015</td><td>Identifying Cognitive Authority in Social Networks: a conceptual framework</td><td>EN</td><td>social interaction</td><td>H.5 Information Interfaces and Presentation: General</td><td></td><td></td></tr>\n",
       "\t<tr><th scope=row>340</th><td>4854</td><td>2015</td><td>Interaction Design Process for Healthcare Professionals: formalizing user's contexts observations</td><td>EN</td><td>design and evaluation</td><td>H.5.2. User interface</td><td></td><td></td></tr>\n",
       "</tbody>\n",
       "</table>\n"
      ],
      "text/latex": [
       "\\begin{tabular}{r|llllllll}\n",
       "  & id_artigo & ano & titulo & idioma & tema & acm_chave & acm_categoria & acm_termos\\\\\n",
       "\\hline\n",
       "\t335 & 4849 & 2015 & O Pensamento Computacional Através de Jogos Infantis & PT-BR & education and hci & H.5.2. User Interfaces. &  & \\\\\n",
       "\t336 & 4850 & 2015 & Investigating Treemap Visualization in Inverted Scale & EN & information visualization & H.5.2. User Interfaces: Evaluation/Methodology &  & \\\\\n",
       "\t337 & 4851 & 2015 & Visualization Mechanisms for Crowdsourcing Information in Emergency Coordination & EN & information visualization & H.4.2 Information system applications: Types of Systems— decision support &  & \\\\\n",
       "\t338 & 4852 & 2015 & Eye Jam: A Gaze-Controlled Musical Interface & EN & interaction with new devices & H.5.2 User Interfaces: Interaction styles, theory and methods, I.3.6 Methodology and Techniques: Int &  & \\\\\n",
       "\t339 & 4853 & 2015 & Identifying Cognitive Authority in Social Networks: a conceptual framework & EN & social interaction & H.5 Information Interfaces and Presentation: General &  & \\\\\n",
       "\t340 & 4854 & 2015 & Interaction Design Process for Healthcare Professionals: formalizing user's contexts observations & EN & design and evaluation & H.5.2. User interface &  & \\\\\n",
       "\\end{tabular}\n"
      ],
      "text/plain": [
       "    id_artigo  ano\n",
       "335      4849 2015\n",
       "336      4850 2015\n",
       "337      4851 2015\n",
       "338      4852 2015\n",
       "339      4853 2015\n",
       "340      4854 2015\n",
       "                                                                                               titulo\n",
       "335                                              O Pensamento Computacional Através de Jogos Infantis\n",
       "336                                             Investigating Treemap Visualization in Inverted Scale\n",
       "337                  Visualization Mechanisms for Crowdsourcing Information in Emergency Coordination\n",
       "338                                                      Eye Jam: A Gaze-Controlled Musical Interface\n",
       "339                        Identifying Cognitive Authority in Social Networks: a conceptual framework\n",
       "340 Interaction Design Process for Healthcare Professionals: formalizing user's contexts observations\n",
       "    idioma                         tema\n",
       "335  PT-BR            education and hci\n",
       "336     EN    information visualization\n",
       "337     EN    information visualization\n",
       "338     EN interaction with new devices\n",
       "339     EN           social interaction\n",
       "340     EN        design and evaluation\n",
       "                                                                                               acm_chave\n",
       "335                                                                              H.5.2. User Interfaces.\n",
       "336                                                       H.5.2. User Interfaces: Evaluation/Methodology\n",
       "337                            H.4.2 Information system applications: Types of Systems— decision support\n",
       "338 H.5.2 User Interfaces: Interaction styles, theory and methods, I.3.6 Methodology and Techniques: Int\n",
       "339                                                 H.5 Information Interfaces and Presentation: General\n",
       "340                                                                                H.5.2. User interface\n",
       "    acm_categoria acm_termos\n",
       "335                         \n",
       "336                         \n",
       "337                         \n",
       "338                         \n",
       "339                         \n",
       "340                         "
      ]
     },
     "execution_count": 144,
     "metadata": {},
     "output_type": "execute_result"
    },
    {
     "name": "stdout",
     "output_type": "stream",
     "text": [
      "Análise Exploratória de `id_artigo`\n",
      "  Número de valores distintos e total: 340/340\n",
      "  Quantas instâncias tem conteúdo não vazio (não é `string` vazio): 340 (%100.00)\n",
      "  Amostra de instâncias de `id_artigo`:\n",
      "    4696\n",
      "     4578\n",
      "     4569\n",
      "\n",
      "Análise Exploratória de `ano`\n",
      "  Número de valores distintos e total: 14/340\n",
      "  Quantas instâncias tem conteúdo não vazio (não é `string` vazio): 340 (%100.00)\n",
      "  Amostra de instâncias de `ano`:\n",
      "    2010\n",
      "     2012\n",
      "     2014\n",
      "\n",
      "Análise Exploratória de `titulo`\n",
      "  Número de valores distintos e total: 340/340\n",
      "  Quantas instâncias tem conteúdo não vazio (não é `string` vazio): 340 (%100.00)\n",
      "  Amostra de instâncias de `titulo`:\n",
      "    Using and utilizing an innovative media development tool\n",
      "     Integração do Kinect com OpenCV para tratar interações via gestos\n",
      "     Design da Informação para Sistemas de Realidade Mediada\n",
      "\n",
      "Análise Exploratória de `idioma`\n",
      "  Número de valores distintos e total: 5/340\n",
      "  Quantas instâncias tem conteúdo não vazio (não é `string` vazio): 340 (%100.00)\n",
      "  Amostra de instâncias de `idioma`:\n",
      "    ES\n",
      "     EN\n",
      "     PT-BR\n",
      "\n",
      "Análise Exploratória de `tema`\n",
      "  Número de valores distintos e total: 40/340\n",
      "  Quantas instâncias tem conteúdo não vazio (não é `string` vazio): 135 (%39.71)\n",
      "  Amostra de instâncias de `tema`:\n",
      "    software educacional\n",
      "     interação social\n",
      "     educação e jogos\n",
      "\n",
      "Análise Exploratória de `acm_chave`\n",
      "  Número de valores distintos e total: 115/340\n",
      "  Quantas instâncias tem conteúdo não vazio (não é `string` vazio): 130 (%38.24)\n",
      "  Amostra de instâncias de `acm_chave`:\n",
      "    H.5.m. Information interfaces and presentation (e.g., HCI): H.5.2 User Interfaces (D.2.2, H.1.2, I.3\n",
      "     User Interfaces - evaluation/methodology.\n",
      "     H5. Information interfaces and presentation: H.5.2 User Interfaces - Input devices and strategies.\n",
      "\n",
      "Análise Exploratória de `acm_categoria`\n",
      "  Número de valores distintos e total: 10/340\n",
      "  Quantas instâncias tem conteúdo não vazio (não é `string` vazio): 9 (%2.65)\n",
      "  Amostra de instâncias de `acm_categoria`:\n",
      "    H.5.2 [Information Systems Applications]: User Interfaces – Evaluation/methodology; D.2.2 [Software \n",
      "     H.5.2 [Information Interfaces and Presentation]: User Interfaces ? user-centered design.\n",
      "     H.5.2 [Information Interfaces and Presentation]: User\n",
      "Interfaces – graphical user interfaces (GUI), \n",
      "\n",
      "Análise Exploratória de `acm_termos`\n",
      "  Número de valores distintos e total: 22/340\n",
      "  Quantas instâncias tem conteúdo não vazio (não é `string` vazio): 26 (%7.65)\n",
      "  Amostra de instâncias de `acm_termos`:\n",
      "    Security, Human Factors, Design.\n",
      "     Human Factors\n",
      "     Documentation, Human Factors\n",
      "\n"
     ]
    }
   ],
   "source": [
    "artigo = data.map[[\"artigo\"]]\n",
    "\n",
    "str(artigo)\n",
    "summary(artigo)\n",
    "\n",
    "head(artigo)\n",
    "tail(artigo)\n",
    "\n",
    "explore.text.attr <- function(attr.data, attr.name) {\n",
    "    printf(\"Análise Exploratória de `%s`\", attr.name)\n",
    "    printf(\"  Número de valores distintos e total: %d/%d\", \n",
    "           nrow(unique(attr.data)), nrow(attr.data))\n",
    "    \n",
    "    printf(\"  Quantas instâncias tem conteúdo não vazio (não é `string` vazio): %d (%%%.2f)\", \n",
    "           sum(attr.data != \"\"), sum(attr.data != \"\")/nrow(attr.data)*100.0)\n",
    "    \n",
    "    random.attr.sample = sample(unique(attr.data[attr.data != \"\"]), 3)\n",
    "    printf(\"  Amostra de instâncias de `%s`:\", attr.name)\n",
    "    printf(\"    %s\", random.attr.sample)\n",
    "    printf(\"\")\n",
    "}\n",
    "\n",
    "# Exploração dos atributos de tipo \"char\" da base de dados\n",
    "for (attr.name in names(artigo)) {\n",
    "    explore.text.attr(artigo[attr.name], attr.name)\n",
    "}"
   ]
  },
  {
   "cell_type": "markdown",
   "metadata": {},
   "source": [
    "Observa-se que os atributos _acm_ tem bastante dados faltantes, pecando a base então em capturar sua informação. Contudo, seu tipo ser _character_ faz sentido. Por outro lado, é o atributo _idioma_ define um conjunto restrito de línguas, sendo então razoável atualizar seu tipo para _factor_. Os demais atributos não apresentam valores faltantes, o que é sempre agradável de se ver."
   ]
  },
  {
   "cell_type": "code",
   "execution_count": 147,
   "metadata": {
    "collapsed": false
   },
   "outputs": [
    {
     "data": {
      "text/html": [
       "<dl class=dl-horizontal>\n",
       "\t<dt>EN</dt>\n",
       "\t\t<dd>108</dd>\n",
       "\t<dt>ES</dt>\n",
       "\t\t<dd>2</dd>\n",
       "\t<dt>P-BR</dt>\n",
       "\t\t<dd>1</dd>\n",
       "\t<dt>PT-BR</dt>\n",
       "\t\t<dd>228</dd>\n",
       "\t<dt>PT-PT</dt>\n",
       "\t\t<dd>1</dd>\n",
       "</dl>\n"
      ],
      "text/latex": [
       "\\begin{description*}\n",
       "\\item[EN] 108\n",
       "\\item[ES] 2\n",
       "\\item[P-BR] 1\n",
       "\\item[PT-BR] 228\n",
       "\\item[PT-PT] 1\n",
       "\\end{description*}\n"
      ],
      "text/markdown": [
       "EN\n",
       ":   108ES\n",
       ":   2P-BR\n",
       ":   1PT-BR\n",
       ":   228PT-PT\n",
       ":   1\n",
       "\n"
      ],
      "text/plain": [
       "   EN    ES  P-BR PT-BR PT-PT \n",
       "  108     2     1   228     1 "
      ]
     },
     "execution_count": 147,
     "metadata": {},
     "output_type": "execute_result"
    }
   ],
   "source": [
    "artigo$idioma = as.factor(artigo$idioma)\n",
    "summary(artigo$idioma)"
   ]
  },
  {
   "cell_type": "markdown",
   "metadata": {},
   "source": [
    "Aqui já observa-se uma oportunidade de limpar nossos dados. Existem duas classificações para o idioma português do Brasil, `P-BR` e `PT-BR`, o que deve ser um erro. Há ainda uma instância discriminada a português de Portugual (`PT-PT`). Optamos por fundir estes três tipos simplesmente como `PT`, seguindo a forma das demais classificações de idiomas da base, `EN` para inglês e `ES` para espanhol."
   ]
  },
  {
   "cell_type": "code",
   "execution_count": 153,
   "metadata": {
    "collapsed": false
   },
   "outputs": [
    {
     "data": {
      "text/html": [
       "<dl class=dl-horizontal>\n",
       "\t<dt>EN</dt>\n",
       "\t\t<dd>108</dd>\n",
       "\t<dt>ES</dt>\n",
       "\t\t<dd>2</dd>\n",
       "\t<dt>PT</dt>\n",
       "\t\t<dd>230</dd>\n",
       "</dl>\n"
      ],
      "text/latex": [
       "\\begin{description*}\n",
       "\\item[EN] 108\n",
       "\\item[ES] 2\n",
       "\\item[PT] 230\n",
       "\\end{description*}\n"
      ],
      "text/markdown": [
       "EN\n",
       ":   108ES\n",
       ":   2PT\n",
       ":   230\n",
       "\n"
      ],
      "text/plain": [
       " EN  ES  PT \n",
       "108   2 230 "
      ]
     },
     "execution_count": 153,
     "metadata": {},
     "output_type": "execute_result"
    }
   ],
   "source": [
    "artigo$idioma = as.character(artigo$idioma)\n",
    "artigo$idioma[artigo$idioma == \"P-BR\" | artigo$idioma == \"PT-PT\" | artigo$idioma == \"PT-BR\"] = \"PT\"\n",
    "artigo$idioma = as.factor(artigo$idioma)\n",
    "summary(artigo$idioma)"
   ]
  },
  {
   "cell_type": "markdown",
   "metadata": {},
   "source": [
    "Apresenta-se abaixo o _summary_ e _str_ da base manipulada:"
   ]
  },
  {
   "cell_type": "code",
   "execution_count": 155,
   "metadata": {
    "collapsed": false
   },
   "outputs": [
    {
     "data": {
      "text/plain": [
       "   id_artigo         ano          titulo          idioma       tema          \n",
       " Min.   :4506   Min.   :1998   Length:340         EN:108   Length:340        \n",
       " 1st Qu.:4591   1st Qu.:2002   Class :character   ES:  2   Class :character  \n",
       " Median :4676   Median :2010   Mode  :character   PT:230   Mode  :character  \n",
       " Mean   :4677   Mean   :2008                                                 \n",
       " 3rd Qu.:4760   3rd Qu.:2013                                                 \n",
       " Max.   :4854   Max.   :2015                                                 \n",
       "  acm_chave         acm_categoria       acm_termos       \n",
       " Length:340         Length:340         Length:340        \n",
       " Class :character   Class :character   Class :character  \n",
       " Mode  :character   Mode  :character   Mode  :character  \n",
       "                                                         \n",
       "                                                         \n",
       "                                                         "
      ]
     },
     "execution_count": 155,
     "metadata": {},
     "output_type": "execute_result"
    },
    {
     "name": "stdout",
     "output_type": "stream",
     "text": [
      "'data.frame':\t340 obs. of  8 variables:\n",
      " $ id_artigo    : int  4506 4507 4508 4509 4510 4511 4512 4513 4514 4515 ...\n",
      " $ ano          : int  1998 1998 1998 1998 1998 1998 1998 1998 1998 1998 ...\n",
      " $ titulo       : chr  \"Uma Abordagem Semiótica à Análise de Interfaces: um estudo de caso\" \"Knowledge and Communication Perspectives in Extensible Applications\" \"Uma Abordagem Ergonômica para o Desenvolvimento de Sistemas Interativos\" \"Estudo de Interação para um Sistema de Ensino à Distância Baseado em Interfaces de Realidade Virtual\" ...\n",
      " $ idioma       : Factor w/ 3 levels \"EN\",\"ES\",\"PT\": 3 1 3 3 3 3 3 3 3 3 ...\n",
      " $ tema         : chr  \"\" \"\" \"\" \"\" ...\n",
      " $ acm_chave    : chr  \"\" \"\" \"\" \"\" ...\n",
      " $ acm_categoria: chr  \"\" \"\" \"\" \"\" ...\n",
      " $ acm_termos   : chr  \"\" \"\" \"\" \"\" ...\n"
     ]
    }
   ],
   "source": [
    "data.map[[\"artigo\"]] = artigo\n",
    "summary(data.map[[\"artigo\"]])\n",
    "str(data.map[[\"artigo\"]])"
   ]
  },
  {
   "cell_type": "markdown",
   "metadata": {},
   "source": [
    "### _autor.csv_ \n"
   ]
  },
  {
   "cell_type": "code",
   "execution_count": null,
   "metadata": {
    "collapsed": true
   },
   "outputs": [],
   "source": []
  },
  {
   "cell_type": "markdown",
   "metadata": {},
   "source": [
    "### _instituicao.csv_ "
   ]
  },
  {
   "cell_type": "code",
   "execution_count": null,
   "metadata": {
    "collapsed": true
   },
   "outputs": [],
   "source": []
  },
  {
   "cell_type": "markdown",
   "metadata": {},
   "source": [
    "### _keyword.csv_ "
   ]
  },
  {
   "cell_type": "code",
   "execution_count": null,
   "metadata": {
    "collapsed": true
   },
   "outputs": [],
   "source": []
  },
  {
   "cell_type": "markdown",
   "metadata": {},
   "source": [
    "### _pessoa.csv_ "
   ]
  },
  {
   "cell_type": "code",
   "execution_count": null,
   "metadata": {
    "collapsed": true
   },
   "outputs": [],
   "source": []
  },
  {
   "cell_type": "markdown",
   "metadata": {},
   "source": [
    "### _referencia.csv_"
   ]
  },
  {
   "cell_type": "code",
   "execution_count": null,
   "metadata": {
    "collapsed": true
   },
   "outputs": [],
   "source": []
  }
 ],
 "metadata": {
  "kernelspec": {
   "display_name": "R",
   "language": "R",
   "name": "ir"
  },
  "language_info": {
   "codemirror_mode": "r",
   "file_extension": ".r",
   "mimetype": "text/x-r-source",
   "name": "R",
   "pygments_lexer": "r",
   "version": "3.2.2"
  }
 },
 "nbformat": 4,
 "nbformat_minor": 0
}
